{
  "cells": [
    {
      "cell_type": "code",
      "execution_count": null,
      "id": "4f7ffd75",
      "metadata": {
        "id": "4f7ffd75"
      },
      "outputs": [],
      "source": [
        "import cv2\n",
        "import matplotlib.pyplot as plt\n",
        "import os\n",
        "import numpy as np"
      ]
    },
    {
      "cell_type": "code",
      "source": [
        "from google.colab import drive\n",
        "drive.mount('/content/drive')"
      ],
      "metadata": {
        "colab": {
          "base_uri": "https://localhost:8080/"
        },
        "id": "1dcDrC9uPhcQ",
        "outputId": "e362b86b-6c46-4906-e0fc-7156eb8b3823"
      },
      "id": "1dcDrC9uPhcQ",
      "execution_count": null,
      "outputs": [
        {
          "output_type": "stream",
          "name": "stdout",
          "text": [
            "Mounted at /content/drive\n"
          ]
        }
      ]
    },
    {
      "cell_type": "code",
      "execution_count": null,
      "id": "3c5c4280",
      "metadata": {
        "id": "3c5c4280"
      },
      "outputs": [],
      "source": [
        "path_test = \"/content/drive/MyDrive/Image Classification Data/Images/Pet_Breeds\"\n",
        "category = ['abyssinian', 'american shorthair', 'beagle', 'boxer', 'bulldog', 'chihuahua', 'corgi', 'dachshund', 'german shepherd', 'golden retriever']"
      ]
    },
    {
      "cell_type": "code",
      "execution_count": null,
      "id": "c4b8bfc5",
      "metadata": {
        "id": "c4b8bfc5"
      },
      "outputs": [],
      "source": [
        "training = []\n",
        "def createTrainingData():\n",
        "    for cate in category:\n",
        "        path = os.path.join(path_test, cate)\n",
        "        class_num = category.index(cate)\n",
        "        for img in os.listdir(path):\n",
        "            img_array = cv2.imread(os.path.join(path, img))\n",
        "            new_array = cv2.resize(img_array, (200, 200))\n",
        "            training.append([new_array, class_num])\n",
        "createTrainingData()"
      ]
    },
    {
      "cell_type": "code",
      "execution_count": null,
      "id": "9aefad42",
      "metadata": {
        "id": "9aefad42",
        "outputId": "f4ab4865-7b81-4058-97e4-1a8994eece7d",
        "colab": {
          "base_uri": "https://localhost:8080/"
        }
      },
      "outputs": [
        {
          "output_type": "stream",
          "name": "stderr",
          "text": [
            "/usr/local/lib/python3.7/dist-packages/ipykernel_launcher.py:1: VisibleDeprecationWarning: Creating an ndarray from ragged nested sequences (which is a list-or-tuple of lists-or-tuples-or ndarrays with different lengths or shapes) is deprecated. If you meant to do this, you must specify 'dtype=object' when creating the ndarray.\n",
            "  \"\"\"Entry point for launching an IPython kernel.\n"
          ]
        }
      ],
      "source": [
        "training = np.array(training)"
      ]
    },
    {
      "cell_type": "code",
      "execution_count": null,
      "id": "b917ff60",
      "metadata": {
        "id": "b917ff60",
        "outputId": "c818d737-eba7-4061-b3c1-f70227dc42ea",
        "colab": {
          "base_uri": "https://localhost:8080/"
        }
      },
      "outputs": [
        {
          "output_type": "execute_result",
          "data": {
            "text/plain": [
              "array([  0,   1,   2,   3,   4,   5,   6,   7,   8,   9,  10,  11,  12,\n",
              "        13,  14,  15,  16,  17,  18,  19,  20,  21,  22,  23,  24,  25,\n",
              "        26,  27,  28,  29,  30,  31,  32,  33,  34,  35,  36,  37,  38,\n",
              "        39,  40,  41,  42,  43,  44,  45,  46,  47,  48,  49,  50,  51,\n",
              "        52,  53,  54,  55,  56,  57,  58,  59,  60,  61,  62,  63,  64,\n",
              "        65,  66,  67,  68,  69,  70,  71,  72,  73,  74,  75,  76,  77,\n",
              "        78,  79,  80,  81,  82,  83,  84,  85,  86,  87,  88,  89,  90,\n",
              "        91,  92,  93,  94,  95,  96,  97,  98,  99, 100, 101, 102, 103,\n",
              "       104, 105, 106, 107, 108, 109, 110, 111, 112, 113, 114, 115, 116,\n",
              "       117, 118, 119, 120, 121, 122, 123, 124, 125, 126, 127, 128, 129,\n",
              "       130, 131, 132, 133, 134, 135, 136, 137, 138, 139, 140, 141, 142,\n",
              "       143, 144, 145, 146, 147, 148, 149, 150, 151, 152, 153, 154, 155,\n",
              "       156, 157, 158, 159, 160, 161, 162, 163, 164, 165, 166, 167, 168,\n",
              "       169, 170, 171, 172, 173, 174, 175, 176, 177, 178, 179, 180, 181,\n",
              "       182, 183, 184, 185, 186, 187, 188, 189, 190, 191, 192, 193, 194,\n",
              "       195, 196, 197, 198, 199, 200, 201, 202, 203, 204, 205, 206, 207,\n",
              "       208, 209, 210, 211, 212, 213, 214, 215, 216, 217, 218, 219, 220,\n",
              "       221, 222, 223, 224, 225, 226, 227, 228, 229, 230, 231, 232, 233,\n",
              "       234, 235, 236, 237, 238, 239, 240, 241, 242, 243, 244, 245, 246,\n",
              "       247, 248, 249, 250, 251, 252, 253, 254, 255], dtype=uint8)"
            ]
          },
          "metadata": {},
          "execution_count": 6
        }
      ],
      "source": [
        "np.unique(training[0][0])"
      ]
    },
    {
      "cell_type": "code",
      "execution_count": null,
      "id": "c29321c8",
      "metadata": {
        "id": "c29321c8"
      },
      "outputs": [],
      "source": [
        "# plt.imshow(training[5][0])\n",
        "# plt.show()"
      ]
    },
    {
      "cell_type": "code",
      "execution_count": null,
      "id": "51e83e61",
      "metadata": {
        "id": "51e83e61"
      },
      "outputs": [],
      "source": [
        "X = []\n",
        "y = []\n",
        "for features, label in training:\n",
        "    X.append(features)\n",
        "    y.append(label)"
      ]
    },
    {
      "cell_type": "code",
      "execution_count": null,
      "id": "392b344f",
      "metadata": {
        "id": "392b344f",
        "outputId": "25cdf411-aa52-446d-de1e-e84063df7816",
        "colab": {
          "base_uri": "https://localhost:8080/"
        }
      },
      "outputs": [
        {
          "output_type": "execute_result",
          "data": {
            "text/plain": [
              "array([0, 1, 2, 3, 4, 5, 6, 7, 8, 9])"
            ]
          },
          "metadata": {},
          "execution_count": 8
        }
      ],
      "source": [
        "np.unique(y)"
      ]
    },
    {
      "cell_type": "code",
      "execution_count": null,
      "id": "18f7e201",
      "metadata": {
        "id": "18f7e201"
      },
      "outputs": [],
      "source": [
        "X = np.array(X).reshape(-1, 200, 200, 3)"
      ]
    },
    {
      "cell_type": "code",
      "execution_count": null,
      "id": "947b83e1",
      "metadata": {
        "id": "947b83e1"
      },
      "outputs": [],
      "source": [
        "X = X.astype('float32')\n",
        "X = X/255"
      ]
    },
    {
      "cell_type": "code",
      "execution_count": null,
      "id": "33efbd72",
      "metadata": {
        "id": "33efbd72",
        "outputId": "6d3aafab-e358-4f97-a80c-7a99c034d012",
        "colab": {
          "base_uri": "https://localhost:8080/"
        }
      },
      "outputs": [
        {
          "output_type": "stream",
          "name": "stdout",
          "text": [
            "[1. 0. 0. 0. 0. 0. 0. 0. 0. 0.]\n",
            "(1700, 10)\n"
          ]
        }
      ],
      "source": [
        "from keras.utils import np_utils\n",
        "Y = np_utils.to_categorical(y, 10)\n",
        "print(Y[100])\n",
        "print(Y.shape)"
      ]
    },
    {
      "cell_type": "code",
      "execution_count": null,
      "id": "3ca13fc5",
      "metadata": {
        "id": "3ca13fc5",
        "outputId": "a572e6ea-249d-4fc6-d9b5-636a7cb1f06c",
        "colab": {
          "base_uri": "https://localhost:8080/"
        }
      },
      "outputs": [
        {
          "output_type": "execute_result",
          "data": {
            "text/plain": [
              "numpy.ndarray"
            ]
          },
          "metadata": {},
          "execution_count": 12
        }
      ],
      "source": [
        "type(Y)"
      ]
    },
    {
      "cell_type": "code",
      "execution_count": null,
      "id": "e3adaad6",
      "metadata": {
        "id": "e3adaad6"
      },
      "outputs": [],
      "source": [
        "from sklearn.model_selection import train_test_split"
      ]
    },
    {
      "cell_type": "code",
      "execution_count": null,
      "id": "45425fdf",
      "metadata": {
        "id": "45425fdf"
      },
      "outputs": [],
      "source": [
        "X_train, X_test, y_train, y_test = train_test_split(X, Y, test_size=0.33, random_state=None)"
      ]
    },
    {
      "cell_type": "code",
      "execution_count": null,
      "id": "fb8f3cb7",
      "metadata": {
        "id": "fb8f3cb7",
        "outputId": "e0732af2-6a3a-4eda-8dda-d0e18d18c91d",
        "colab": {
          "base_uri": "https://localhost:8080/"
        }
      },
      "outputs": [
        {
          "output_type": "execute_result",
          "data": {
            "text/plain": [
              "((1139, 200, 200, 3), (1139, 10), (561, 200, 200, 3), (561, 10))"
            ]
          },
          "metadata": {},
          "execution_count": 15
        }
      ],
      "source": [
        "X_train.shape, y_train.shape, X_test.shape, y_test.shape"
      ]
    },
    {
      "cell_type": "code",
      "execution_count": null,
      "id": "39a43ba6",
      "metadata": {
        "id": "39a43ba6"
      },
      "outputs": [],
      "source": [
        "import tensorflow as tf\n",
        "from tensorflow.keras.models import Sequential\n",
        "from tensorflow.keras.layers import Dense, Conv2D, MaxPooling2D, Dropout, Flatten, BatchNormalization"
      ]
    },
    {
      "cell_type": "code",
      "execution_count": null,
      "id": "25c6ae8f",
      "metadata": {
        "id": "25c6ae8f"
      },
      "outputs": [],
      "source": [
        "model = Sequential([\n",
        "    Conv2D(128, (3,3), padding='same', activation='relu', input_shape=(200, 200, 3)),\n",
        "    MaxPooling2D((2,2), strides=2),\n",
        "    BatchNormalization(),\n",
        "\n",
        "    Conv2D(64, (3,3), padding='same', activation='relu'),\n",
        "    MaxPooling2D((2,2), strides=2),\n",
        "    BatchNormalization(),\n",
        " \n",
        "\n",
        "    Conv2D(32, (3,3), padding='same', activation='relu'),\n",
        "    MaxPooling2D((2,2), strides=2),\n",
        "    BatchNormalization(),\n",
        "\n",
        "\n",
        "    Conv2D(16, (3,3), padding='same', activation='relu'),\n",
        "    MaxPooling2D((2,2), strides=2),\n",
        "    BatchNormalization(),\n",
        "\n",
        "    \n",
        "    Conv2D(32, (3,3), padding='same', activation='relu'),\n",
        "    MaxPooling2D((2,2), strides=2),\n",
        "    BatchNormalization(),\n",
        "\n",
        "    Conv2D(64, (2,2), padding='same', activation='relu'),\n",
        "    MaxPooling2D((2,2), strides=2),\n",
        "    BatchNormalization(),\n",
        "    \n",
        "    Conv2D(128, (2,2), padding='same', activation='relu'),\n",
        "    MaxPooling2D((2,2), strides=2),\n",
        "    BatchNormalization(),\n",
        "    \n",
        "    Dropout(0.3),\n",
        "    Flatten(),\n",
        "    Dense(4, activation='relu'),\n",
        "    Dropout(0.3),\n",
        "    Dense(10, activation='softmax')\n",
        "])"
      ]
    },
    {
      "cell_type": "code",
      "execution_count": null,
      "id": "da9ab366",
      "metadata": {
        "id": "da9ab366"
      },
      "outputs": [],
      "source": [
        "model.compile(optimizer='SGD', loss='categorical_crossentropy', metrics = ['accuracy'])"
      ]
    },
    {
      "cell_type": "code",
      "execution_count": null,
      "id": "574365d6",
      "metadata": {
        "id": "574365d6",
        "outputId": "6e859de6-0f87-421a-cad1-d3e9ecde0f85",
        "colab": {
          "base_uri": "https://localhost:8080/"
        }
      },
      "outputs": [
        {
          "output_type": "stream",
          "name": "stdout",
          "text": [
            "Model: \"sequential_4\"\n",
            "_________________________________________________________________\n",
            " Layer (type)                Output Shape              Param #   \n",
            "=================================================================\n",
            " conv2d_18 (Conv2D)          (None, 200, 200, 128)     3584      \n",
            "                                                                 \n",
            " max_pooling2d_12 (MaxPoolin  (None, 100, 100, 128)    0         \n",
            " g2D)                                                            \n",
            "                                                                 \n",
            " batch_normalization_12 (Bat  (None, 100, 100, 128)    512       \n",
            " chNormalization)                                                \n",
            "                                                                 \n",
            " conv2d_19 (Conv2D)          (None, 100, 100, 64)      73792     \n",
            "                                                                 \n",
            " max_pooling2d_13 (MaxPoolin  (None, 50, 50, 64)       0         \n",
            " g2D)                                                            \n",
            "                                                                 \n",
            " batch_normalization_13 (Bat  (None, 50, 50, 64)       256       \n",
            " chNormalization)                                                \n",
            "                                                                 \n",
            " conv2d_20 (Conv2D)          (None, 50, 50, 32)        18464     \n",
            "                                                                 \n",
            " max_pooling2d_14 (MaxPoolin  (None, 25, 25, 32)       0         \n",
            " g2D)                                                            \n",
            "                                                                 \n",
            " batch_normalization_14 (Bat  (None, 25, 25, 32)       128       \n",
            " chNormalization)                                                \n",
            "                                                                 \n",
            " conv2d_21 (Conv2D)          (None, 25, 25, 16)        4624      \n",
            "                                                                 \n",
            " max_pooling2d_15 (MaxPoolin  (None, 12, 12, 16)       0         \n",
            " g2D)                                                            \n",
            "                                                                 \n",
            " batch_normalization_15 (Bat  (None, 12, 12, 16)       64        \n",
            " chNormalization)                                                \n",
            "                                                                 \n",
            " conv2d_22 (Conv2D)          (None, 12, 12, 32)        4640      \n",
            "                                                                 \n",
            " max_pooling2d_16 (MaxPoolin  (None, 6, 6, 32)         0         \n",
            " g2D)                                                            \n",
            "                                                                 \n",
            " batch_normalization_16 (Bat  (None, 6, 6, 32)         128       \n",
            " chNormalization)                                                \n",
            "                                                                 \n",
            " conv2d_23 (Conv2D)          (None, 6, 6, 64)          8256      \n",
            "                                                                 \n",
            " max_pooling2d_17 (MaxPoolin  (None, 3, 3, 64)         0         \n",
            " g2D)                                                            \n",
            "                                                                 \n",
            " batch_normalization_17 (Bat  (None, 3, 3, 64)         256       \n",
            " chNormalization)                                                \n",
            "                                                                 \n",
            " conv2d_24 (Conv2D)          (None, 3, 3, 128)         32896     \n",
            "                                                                 \n",
            " max_pooling2d_18 (MaxPoolin  (None, 1, 1, 128)        0         \n",
            " g2D)                                                            \n",
            "                                                                 \n",
            " batch_normalization_18 (Bat  (None, 1, 1, 128)        512       \n",
            " chNormalization)                                                \n",
            "                                                                 \n",
            " dropout_17 (Dropout)        (None, 1, 1, 128)         0         \n",
            "                                                                 \n",
            " flatten_4 (Flatten)         (None, 128)               0         \n",
            "                                                                 \n",
            " dense_8 (Dense)             (None, 4)                 516       \n",
            "                                                                 \n",
            " dropout_18 (Dropout)        (None, 4)                 0         \n",
            "                                                                 \n",
            " dense_9 (Dense)             (None, 10)                50        \n",
            "                                                                 \n",
            "=================================================================\n",
            "Total params: 148,678\n",
            "Trainable params: 147,750\n",
            "Non-trainable params: 928\n",
            "_________________________________________________________________\n"
          ]
        }
      ],
      "source": [
        "model.summary()"
      ]
    },
    {
      "cell_type": "code",
      "execution_count": null,
      "id": "e344c5ed",
      "metadata": {
        "id": "e344c5ed",
        "outputId": "a61f0db4-90f9-43fc-818f-0a79d6d93b3f",
        "colab": {
          "base_uri": "https://localhost:8080/",
          "height": 1000
        }
      },
      "outputs": [
        {
          "output_type": "stream",
          "name": "stdout",
          "text": [
            "Epoch 1/1000\n",
            "36/36 [==============================] - 4s 123ms/step - loss: 1.9715 - accuracy: 0.2757 - val_loss: 2.2028 - val_accuracy: 0.2299\n",
            "Epoch 2/1000\n",
            "36/36 [==============================] - 4s 118ms/step - loss: 1.9642 - accuracy: 0.2722 - val_loss: 2.1780 - val_accuracy: 0.2353\n",
            "Epoch 3/1000\n",
            "36/36 [==============================] - 4s 120ms/step - loss: 1.9369 - accuracy: 0.2959 - val_loss: 2.1912 - val_accuracy: 0.2299\n",
            "Epoch 4/1000\n",
            "36/36 [==============================] - 4s 121ms/step - loss: 1.9197 - accuracy: 0.2985 - val_loss: 2.1926 - val_accuracy: 0.2139\n",
            "Epoch 5/1000\n",
            "36/36 [==============================] - 4s 119ms/step - loss: 1.8953 - accuracy: 0.3011 - val_loss: 2.1770 - val_accuracy: 0.2371\n",
            "Epoch 6/1000\n",
            "36/36 [==============================] - 4s 118ms/step - loss: 1.9264 - accuracy: 0.2634 - val_loss: 2.2072 - val_accuracy: 0.2157\n",
            "Epoch 7/1000\n",
            "36/36 [==============================] - 4s 118ms/step - loss: 1.8807 - accuracy: 0.2932 - val_loss: 2.2033 - val_accuracy: 0.2299\n",
            "Epoch 8/1000\n",
            "36/36 [==============================] - 4s 122ms/step - loss: 1.8770 - accuracy: 0.2915 - val_loss: 2.1973 - val_accuracy: 0.2406\n",
            "Epoch 9/1000\n",
            "36/36 [==============================] - 4s 119ms/step - loss: 1.8384 - accuracy: 0.3117 - val_loss: 2.1709 - val_accuracy: 0.2424\n",
            "Epoch 10/1000\n",
            "36/36 [==============================] - 4s 118ms/step - loss: 1.8246 - accuracy: 0.3126 - val_loss: 2.2314 - val_accuracy: 0.2103\n",
            "Epoch 11/1000\n",
            "36/36 [==============================] - 4s 118ms/step - loss: 1.7941 - accuracy: 0.3336 - val_loss: 2.2014 - val_accuracy: 0.1979\n",
            "Epoch 12/1000\n",
            "36/36 [==============================] - 4s 119ms/step - loss: 1.7630 - accuracy: 0.3178 - val_loss: 2.1974 - val_accuracy: 0.2157\n",
            "Epoch 13/1000\n",
            "36/36 [==============================] - 4s 118ms/step - loss: 1.8079 - accuracy: 0.3266 - val_loss: 2.1781 - val_accuracy: 0.2442\n",
            "Epoch 14/1000\n",
            "36/36 [==============================] - 4s 118ms/step - loss: 1.7597 - accuracy: 0.3389 - val_loss: 2.1712 - val_accuracy: 0.2353\n",
            "Epoch 15/1000\n",
            "36/36 [==============================] - 4s 119ms/step - loss: 1.7887 - accuracy: 0.3380 - val_loss: 2.1758 - val_accuracy: 0.2478\n",
            "Epoch 16/1000\n",
            "36/36 [==============================] - 4s 118ms/step - loss: 1.7415 - accuracy: 0.3565 - val_loss: 2.1724 - val_accuracy: 0.2282\n",
            "Epoch 17/1000\n",
            "36/36 [==============================] - 4s 118ms/step - loss: 1.7511 - accuracy: 0.3424 - val_loss: 2.2139 - val_accuracy: 0.2228\n",
            "Epoch 18/1000\n",
            "36/36 [==============================] - 4s 118ms/step - loss: 1.7301 - accuracy: 0.3371 - val_loss: 2.1694 - val_accuracy: 0.2656\n",
            "Epoch 19/1000\n",
            "36/36 [==============================] - 4s 118ms/step - loss: 1.6974 - accuracy: 0.3600 - val_loss: 2.1867 - val_accuracy: 0.2175\n",
            "Epoch 20/1000\n",
            "36/36 [==============================] - 4s 119ms/step - loss: 1.6609 - accuracy: 0.3661 - val_loss: 2.2493 - val_accuracy: 0.2299\n",
            "Epoch 21/1000\n",
            "36/36 [==============================] - 4s 124ms/step - loss: 1.6615 - accuracy: 0.3723 - val_loss: 2.2793 - val_accuracy: 0.2050\n",
            "Epoch 22/1000\n",
            "36/36 [==============================] - 5s 126ms/step - loss: 1.6908 - accuracy: 0.3749 - val_loss: 2.2385 - val_accuracy: 0.2424\n",
            "Epoch 23/1000\n",
            "36/36 [==============================] - 4s 121ms/step - loss: 1.6545 - accuracy: 0.3696 - val_loss: 2.2290 - val_accuracy: 0.2442\n",
            "Epoch 24/1000\n",
            "36/36 [==============================] - 4s 118ms/step - loss: 1.6699 - accuracy: 0.3538 - val_loss: 2.1842 - val_accuracy: 0.2549\n",
            "Epoch 25/1000\n",
            "36/36 [==============================] - 4s 118ms/step - loss: 1.6332 - accuracy: 0.3740 - val_loss: 2.1780 - val_accuracy: 0.2478\n",
            "Epoch 26/1000\n",
            "36/36 [==============================] - 4s 118ms/step - loss: 1.6304 - accuracy: 0.3793 - val_loss: 2.2707 - val_accuracy: 0.2478\n",
            "Epoch 27/1000\n",
            "36/36 [==============================] - 4s 118ms/step - loss: 1.6064 - accuracy: 0.3889 - val_loss: 2.2310 - val_accuracy: 0.2496\n",
            "Epoch 28/1000\n",
            "36/36 [==============================] - 4s 118ms/step - loss: 1.6212 - accuracy: 0.3881 - val_loss: 2.2019 - val_accuracy: 0.2513\n",
            "Epoch 29/1000\n",
            "36/36 [==============================] - 4s 118ms/step - loss: 1.6076 - accuracy: 0.3863 - val_loss: 2.2549 - val_accuracy: 0.2585\n",
            "Epoch 30/1000\n",
            "36/36 [==============================] - 4s 122ms/step - loss: 1.6047 - accuracy: 0.3977 - val_loss: 2.2061 - val_accuracy: 0.2424\n",
            "Epoch 31/1000\n",
            "36/36 [==============================] - 4s 119ms/step - loss: 1.6120 - accuracy: 0.3881 - val_loss: 2.1583 - val_accuracy: 0.2460\n",
            "Epoch 32/1000\n",
            "36/36 [==============================] - 4s 118ms/step - loss: 1.5490 - accuracy: 0.4100 - val_loss: 2.2114 - val_accuracy: 0.2602\n",
            "Epoch 33/1000\n",
            "36/36 [==============================] - 4s 118ms/step - loss: 1.5531 - accuracy: 0.4267 - val_loss: 2.2753 - val_accuracy: 0.2210\n",
            "Epoch 34/1000\n",
            "36/36 [==============================] - 4s 119ms/step - loss: 1.5783 - accuracy: 0.4030 - val_loss: 2.2334 - val_accuracy: 0.2567\n",
            "Epoch 35/1000\n",
            "36/36 [==============================] - 4s 119ms/step - loss: 1.5248 - accuracy: 0.4390 - val_loss: 2.2572 - val_accuracy: 0.2282\n",
            "Epoch 36/1000\n",
            "36/36 [==============================] - 4s 118ms/step - loss: 1.5283 - accuracy: 0.4179 - val_loss: 2.2027 - val_accuracy: 0.2264\n",
            "Epoch 37/1000\n",
            "36/36 [==============================] - 4s 119ms/step - loss: 1.5350 - accuracy: 0.4109 - val_loss: 2.2980 - val_accuracy: 0.2567\n",
            "Epoch 38/1000\n",
            "36/36 [==============================] - 4s 119ms/step - loss: 1.5357 - accuracy: 0.4205 - val_loss: 2.2572 - val_accuracy: 0.2371\n",
            "Epoch 39/1000\n",
            "36/36 [==============================] - 4s 119ms/step - loss: 1.5402 - accuracy: 0.4223 - val_loss: 2.2586 - val_accuracy: 0.2246\n",
            "Epoch 40/1000\n",
            "36/36 [==============================] - 4s 119ms/step - loss: 1.5045 - accuracy: 0.4276 - val_loss: 2.4069 - val_accuracy: 0.2389\n",
            "Epoch 41/1000\n",
            "36/36 [==============================] - 4s 119ms/step - loss: 1.5577 - accuracy: 0.3977 - val_loss: 2.3354 - val_accuracy: 0.2103\n",
            "Epoch 42/1000\n",
            "36/36 [==============================] - 4s 119ms/step - loss: 1.4741 - accuracy: 0.4434 - val_loss: 2.2582 - val_accuracy: 0.2121\n",
            "Epoch 43/1000\n",
            "36/36 [==============================] - 4s 119ms/step - loss: 1.4780 - accuracy: 0.4451 - val_loss: 2.2754 - val_accuracy: 0.2210\n",
            "Epoch 44/1000\n",
            "36/36 [==============================] - 4s 119ms/step - loss: 1.4839 - accuracy: 0.4425 - val_loss: 2.2335 - val_accuracy: 0.2442\n",
            "Epoch 45/1000\n",
            "36/36 [==============================] - 4s 119ms/step - loss: 1.4750 - accuracy: 0.4320 - val_loss: 2.3374 - val_accuracy: 0.2246\n",
            "Epoch 46/1000\n",
            "36/36 [==============================] - 4s 124ms/step - loss: 1.4145 - accuracy: 0.4715 - val_loss: 2.3193 - val_accuracy: 0.2567\n",
            "Epoch 47/1000\n",
            "36/36 [==============================] - 4s 119ms/step - loss: 1.4395 - accuracy: 0.4504 - val_loss: 2.3135 - val_accuracy: 0.2264\n",
            "Epoch 48/1000\n",
            "36/36 [==============================] - 4s 119ms/step - loss: 1.4412 - accuracy: 0.4636 - val_loss: 2.2797 - val_accuracy: 0.2424\n",
            "Epoch 49/1000\n",
            "36/36 [==============================] - 4s 119ms/step - loss: 1.4594 - accuracy: 0.4513 - val_loss: 2.3297 - val_accuracy: 0.2620\n",
            "Epoch 50/1000\n",
            "36/36 [==============================] - 4s 119ms/step - loss: 1.4350 - accuracy: 0.4618 - val_loss: 2.2950 - val_accuracy: 0.2157\n",
            "Epoch 51/1000\n",
            "36/36 [==============================] - 4s 119ms/step - loss: 1.4286 - accuracy: 0.4706 - val_loss: 2.3255 - val_accuracy: 0.2264\n",
            "Epoch 52/1000\n",
            "36/36 [==============================] - 4s 119ms/step - loss: 1.4169 - accuracy: 0.4636 - val_loss: 2.3638 - val_accuracy: 0.2335\n",
            "Epoch 53/1000\n",
            "36/36 [==============================] - 4s 119ms/step - loss: 1.3979 - accuracy: 0.4829 - val_loss: 2.3111 - val_accuracy: 0.2157\n",
            "Epoch 54/1000\n",
            "36/36 [==============================] - 4s 119ms/step - loss: 1.3705 - accuracy: 0.4934 - val_loss: 2.2829 - val_accuracy: 0.2513\n",
            "Epoch 55/1000\n",
            "36/36 [==============================] - 4s 119ms/step - loss: 1.3816 - accuracy: 0.4811 - val_loss: 2.3134 - val_accuracy: 0.2638\n",
            "Epoch 56/1000\n",
            "36/36 [==============================] - 4s 119ms/step - loss: 1.4010 - accuracy: 0.4539 - val_loss: 2.2778 - val_accuracy: 0.2460\n",
            "Epoch 57/1000\n",
            "36/36 [==============================] - 4s 119ms/step - loss: 1.4140 - accuracy: 0.4557 - val_loss: 2.3295 - val_accuracy: 0.2478\n",
            "Epoch 58/1000\n",
            "36/36 [==============================] - 4s 119ms/step - loss: 1.3775 - accuracy: 0.4785 - val_loss: 2.3664 - val_accuracy: 0.2781\n",
            "Epoch 59/1000\n",
            "36/36 [==============================] - 4s 119ms/step - loss: 1.3446 - accuracy: 0.4899 - val_loss: 2.3668 - val_accuracy: 0.2406\n",
            "Epoch 60/1000\n",
            "36/36 [==============================] - 4s 119ms/step - loss: 1.3772 - accuracy: 0.4706 - val_loss: 2.3523 - val_accuracy: 0.2531\n",
            "Epoch 61/1000\n",
            "36/36 [==============================] - 4s 119ms/step - loss: 1.3819 - accuracy: 0.4802 - val_loss: 2.4149 - val_accuracy: 0.2406\n",
            "Epoch 62/1000\n",
            "36/36 [==============================] - 4s 119ms/step - loss: 1.3451 - accuracy: 0.4680 - val_loss: 2.4819 - val_accuracy: 0.2139\n",
            "Epoch 63/1000\n",
            "36/36 [==============================] - 4s 119ms/step - loss: 1.3360 - accuracy: 0.4864 - val_loss: 2.3589 - val_accuracy: 0.2460\n",
            "Epoch 64/1000\n",
            "36/36 [==============================] - 4s 119ms/step - loss: 1.2796 - accuracy: 0.5338 - val_loss: 2.3627 - val_accuracy: 0.2353\n",
            "Epoch 65/1000\n",
            "36/36 [==============================] - 4s 123ms/step - loss: 1.3619 - accuracy: 0.4855 - val_loss: 2.5014 - val_accuracy: 0.2389\n",
            "Epoch 66/1000\n",
            "36/36 [==============================] - 4s 119ms/step - loss: 1.3079 - accuracy: 0.5075 - val_loss: 2.3614 - val_accuracy: 0.2299\n",
            "Epoch 67/1000\n",
            "36/36 [==============================] - 4s 119ms/step - loss: 1.3353 - accuracy: 0.4908 - val_loss: 2.4476 - val_accuracy: 0.2496\n",
            "Epoch 68/1000\n",
            "36/36 [==============================] - 4s 123ms/step - loss: 1.3566 - accuracy: 0.4829 - val_loss: 2.4344 - val_accuracy: 0.2228\n",
            "Epoch 69/1000\n",
            "36/36 [==============================] - 4s 119ms/step - loss: 1.2561 - accuracy: 0.5162 - val_loss: 2.4251 - val_accuracy: 0.2317\n",
            "Epoch 70/1000\n",
            "36/36 [==============================] - 4s 120ms/step - loss: 1.2974 - accuracy: 0.5189 - val_loss: 2.3991 - val_accuracy: 0.2299\n",
            "Epoch 71/1000\n",
            "36/36 [==============================] - 4s 119ms/step - loss: 1.3089 - accuracy: 0.4873 - val_loss: 2.3845 - val_accuracy: 0.2389\n",
            "Epoch 72/1000\n",
            "36/36 [==============================] - 4s 119ms/step - loss: 1.3150 - accuracy: 0.4881 - val_loss: 2.4959 - val_accuracy: 0.2246\n",
            "Epoch 73/1000\n",
            "36/36 [==============================] - 4s 119ms/step - loss: 1.3535 - accuracy: 0.4767 - val_loss: 2.6266 - val_accuracy: 0.2246\n",
            "Epoch 74/1000\n",
            "36/36 [==============================] - 4s 119ms/step - loss: 1.3612 - accuracy: 0.4978 - val_loss: 2.4998 - val_accuracy: 0.2389\n",
            "Epoch 75/1000\n",
            "36/36 [==============================] - 4s 120ms/step - loss: 1.3102 - accuracy: 0.4969 - val_loss: 2.4472 - val_accuracy: 0.2353\n",
            "Epoch 76/1000\n",
            "36/36 [==============================] - 4s 119ms/step - loss: 1.2811 - accuracy: 0.5075 - val_loss: 2.3850 - val_accuracy: 0.2246\n",
            "Epoch 77/1000\n",
            "36/36 [==============================] - 4s 120ms/step - loss: 1.3210 - accuracy: 0.4855 - val_loss: 2.5509 - val_accuracy: 0.2210\n",
            "Epoch 78/1000\n",
            "36/36 [==============================] - 4s 119ms/step - loss: 1.2400 - accuracy: 0.5303 - val_loss: 2.4996 - val_accuracy: 0.2193\n",
            "Epoch 79/1000\n",
            "36/36 [==============================] - 4s 122ms/step - loss: 1.2683 - accuracy: 0.5057 - val_loss: 2.5515 - val_accuracy: 0.2353\n",
            "Epoch 80/1000\n",
            "36/36 [==============================] - 4s 120ms/step - loss: 1.3072 - accuracy: 0.5101 - val_loss: 2.5493 - val_accuracy: 0.2424\n",
            "Epoch 81/1000\n",
            "36/36 [==============================] - 4s 120ms/step - loss: 1.3587 - accuracy: 0.4723 - val_loss: 2.5440 - val_accuracy: 0.2567\n",
            "Epoch 82/1000\n",
            "36/36 [==============================] - 4s 119ms/step - loss: 1.2718 - accuracy: 0.5004 - val_loss: 2.5501 - val_accuracy: 0.2460\n",
            "Epoch 83/1000\n",
            "36/36 [==============================] - 4s 119ms/step - loss: 1.2706 - accuracy: 0.5127 - val_loss: 2.4452 - val_accuracy: 0.2513\n",
            "Epoch 84/1000\n",
            "36/36 [==============================] - 4s 119ms/step - loss: 1.2397 - accuracy: 0.5382 - val_loss: 2.4237 - val_accuracy: 0.2282\n",
            "Epoch 85/1000\n",
            "36/36 [==============================] - 4s 120ms/step - loss: 1.2563 - accuracy: 0.5259 - val_loss: 2.4340 - val_accuracy: 0.2299\n",
            "Epoch 86/1000\n",
            "36/36 [==============================] - 4s 119ms/step - loss: 1.2664 - accuracy: 0.4996 - val_loss: 2.4744 - val_accuracy: 0.2531\n",
            "Epoch 87/1000\n",
            "36/36 [==============================] - 4s 120ms/step - loss: 1.2893 - accuracy: 0.5022 - val_loss: 2.4904 - val_accuracy: 0.2371\n",
            "Epoch 88/1000\n",
            "36/36 [==============================] - 4s 120ms/step - loss: 1.2990 - accuracy: 0.5075 - val_loss: 2.5318 - val_accuracy: 0.2371\n",
            "Epoch 89/1000\n",
            "36/36 [==============================] - 4s 120ms/step - loss: 1.2576 - accuracy: 0.5110 - val_loss: 2.5053 - val_accuracy: 0.2032\n",
            "Epoch 90/1000\n",
            "36/36 [==============================] - 4s 120ms/step - loss: 1.2842 - accuracy: 0.4934 - val_loss: 2.6180 - val_accuracy: 0.2228\n",
            "Epoch 91/1000\n",
            "36/36 [==============================] - 4s 119ms/step - loss: 1.2102 - accuracy: 0.5417 - val_loss: 2.5730 - val_accuracy: 0.2282\n",
            "Epoch 92/1000\n",
            "36/36 [==============================] - 4s 119ms/step - loss: 1.2780 - accuracy: 0.5233 - val_loss: 2.5345 - val_accuracy: 0.2282\n",
            "Epoch 93/1000\n",
            "36/36 [==============================] - 4s 119ms/step - loss: 1.2669 - accuracy: 0.5075 - val_loss: 2.5148 - val_accuracy: 0.2496\n",
            "Epoch 94/1000\n",
            "36/36 [==============================] - 5s 130ms/step - loss: 1.2615 - accuracy: 0.5031 - val_loss: 2.4595 - val_accuracy: 0.2193\n",
            "Epoch 95/1000\n",
            "36/36 [==============================] - 4s 119ms/step - loss: 1.2435 - accuracy: 0.5259 - val_loss: 2.5336 - val_accuracy: 0.2478\n",
            "Epoch 96/1000\n",
            "36/36 [==============================] - 4s 119ms/step - loss: 1.1982 - accuracy: 0.5356 - val_loss: 2.5429 - val_accuracy: 0.2317\n",
            "Epoch 97/1000\n",
            "36/36 [==============================] - 4s 119ms/step - loss: 1.2019 - accuracy: 0.5364 - val_loss: 2.6279 - val_accuracy: 0.2424\n",
            "Epoch 98/1000\n",
            "36/36 [==============================] - 4s 119ms/step - loss: 1.2339 - accuracy: 0.5312 - val_loss: 2.5177 - val_accuracy: 0.2799\n",
            "Epoch 99/1000\n",
            "36/36 [==============================] - 4s 120ms/step - loss: 1.2542 - accuracy: 0.5154 - val_loss: 2.5780 - val_accuracy: 0.2442\n",
            "Epoch 100/1000\n",
            "36/36 [==============================] - 4s 123ms/step - loss: 1.2159 - accuracy: 0.5470 - val_loss: 2.5977 - val_accuracy: 0.2175\n",
            "Epoch 101/1000\n",
            "36/36 [==============================] - 4s 119ms/step - loss: 1.1758 - accuracy: 0.5373 - val_loss: 2.5429 - val_accuracy: 0.2335\n",
            "Epoch 102/1000\n",
            "36/36 [==============================] - 4s 119ms/step - loss: 1.1947 - accuracy: 0.5391 - val_loss: 2.6223 - val_accuracy: 0.2496\n",
            "Epoch 103/1000\n",
            "36/36 [==============================] - 4s 120ms/step - loss: 1.1995 - accuracy: 0.5391 - val_loss: 2.6197 - val_accuracy: 0.2602\n",
            "Epoch 104/1000\n",
            "36/36 [==============================] - 4s 119ms/step - loss: 1.1853 - accuracy: 0.5382 - val_loss: 2.5005 - val_accuracy: 0.2585\n",
            "Epoch 105/1000\n",
            "36/36 [==============================] - 4s 120ms/step - loss: 1.1963 - accuracy: 0.5373 - val_loss: 2.6556 - val_accuracy: 0.2478\n",
            "Epoch 106/1000\n",
            "36/36 [==============================] - 4s 123ms/step - loss: 1.2210 - accuracy: 0.5294 - val_loss: 2.5984 - val_accuracy: 0.2513\n",
            "Epoch 107/1000\n",
            "36/36 [==============================] - 4s 119ms/step - loss: 1.2277 - accuracy: 0.5338 - val_loss: 2.6093 - val_accuracy: 0.2299\n",
            "Epoch 108/1000\n",
            "36/36 [==============================] - 4s 119ms/step - loss: 1.1851 - accuracy: 0.5285 - val_loss: 2.5644 - val_accuracy: 0.2567\n",
            "Epoch 109/1000\n",
            "36/36 [==============================] - 4s 119ms/step - loss: 1.1995 - accuracy: 0.5338 - val_loss: 2.6690 - val_accuracy: 0.2531\n",
            "Epoch 110/1000\n",
            "36/36 [==============================] - 4s 120ms/step - loss: 1.2200 - accuracy: 0.5233 - val_loss: 2.6613 - val_accuracy: 0.2442\n",
            "Epoch 111/1000\n",
            "36/36 [==============================] - 4s 120ms/step - loss: 1.1693 - accuracy: 0.5514 - val_loss: 2.7383 - val_accuracy: 0.2335\n",
            "Epoch 112/1000\n",
            "36/36 [==============================] - 4s 121ms/step - loss: 1.1543 - accuracy: 0.5496 - val_loss: 2.6637 - val_accuracy: 0.2442\n",
            "Epoch 113/1000\n",
            "36/36 [==============================] - 4s 119ms/step - loss: 1.2145 - accuracy: 0.5303 - val_loss: 2.5768 - val_accuracy: 0.2602\n",
            "Epoch 114/1000\n",
            "36/36 [==============================] - 4s 120ms/step - loss: 1.2163 - accuracy: 0.5312 - val_loss: 2.5544 - val_accuracy: 0.2549\n",
            "Epoch 115/1000\n",
            "36/36 [==============================] - 4s 120ms/step - loss: 1.1466 - accuracy: 0.5566 - val_loss: 2.5886 - val_accuracy: 0.2549\n",
            "Epoch 116/1000\n",
            "36/36 [==============================] - 4s 123ms/step - loss: 1.1864 - accuracy: 0.5443 - val_loss: 2.5848 - val_accuracy: 0.2531\n",
            "Epoch 117/1000\n",
            "36/36 [==============================] - 4s 123ms/step - loss: 1.1694 - accuracy: 0.5478 - val_loss: 2.5951 - val_accuracy: 0.2549\n",
            "Epoch 118/1000\n",
            "36/36 [==============================] - 4s 120ms/step - loss: 1.1728 - accuracy: 0.5487 - val_loss: 2.7105 - val_accuracy: 0.2299\n",
            "Epoch 119/1000\n",
            "36/36 [==============================] - 4s 120ms/step - loss: 1.1197 - accuracy: 0.5619 - val_loss: 2.6545 - val_accuracy: 0.2906\n",
            "Epoch 120/1000\n",
            "36/36 [==============================] - 4s 119ms/step - loss: 1.1879 - accuracy: 0.5426 - val_loss: 2.5827 - val_accuracy: 0.2602\n",
            "Epoch 121/1000\n",
            "36/36 [==============================] - 4s 123ms/step - loss: 1.2087 - accuracy: 0.5259 - val_loss: 2.6142 - val_accuracy: 0.2424\n",
            "Epoch 122/1000\n",
            "36/36 [==============================] - 4s 119ms/step - loss: 1.1810 - accuracy: 0.5452 - val_loss: 2.6623 - val_accuracy: 0.2531\n",
            "Epoch 123/1000\n",
            "36/36 [==============================] - 4s 120ms/step - loss: 1.1456 - accuracy: 0.5522 - val_loss: 2.7202 - val_accuracy: 0.2353\n",
            "Epoch 124/1000\n",
            "36/36 [==============================] - 4s 119ms/step - loss: 1.1740 - accuracy: 0.5496 - val_loss: 2.7973 - val_accuracy: 0.2371\n",
            "Epoch 125/1000\n",
            "36/36 [==============================] - 4s 120ms/step - loss: 1.1657 - accuracy: 0.5461 - val_loss: 2.6192 - val_accuracy: 0.2567\n",
            "Epoch 126/1000\n",
            "36/36 [==============================] - 4s 120ms/step - loss: 1.1955 - accuracy: 0.5408 - val_loss: 3.1280 - val_accuracy: 0.2246\n",
            "Epoch 127/1000\n",
            "36/36 [==============================] - 4s 119ms/step - loss: 1.1850 - accuracy: 0.5338 - val_loss: 2.6602 - val_accuracy: 0.2299\n",
            "Epoch 128/1000\n",
            "36/36 [==============================] - 4s 119ms/step - loss: 1.1605 - accuracy: 0.5373 - val_loss: 2.6495 - val_accuracy: 0.2424\n",
            "Epoch 129/1000\n",
            "36/36 [==============================] - 4s 120ms/step - loss: 1.1828 - accuracy: 0.5347 - val_loss: 2.7845 - val_accuracy: 0.2353\n",
            "Epoch 130/1000\n",
            "36/36 [==============================] - 4s 120ms/step - loss: 1.1688 - accuracy: 0.5470 - val_loss: 2.7296 - val_accuracy: 0.2460\n",
            "Epoch 131/1000\n",
            "36/36 [==============================] - 4s 120ms/step - loss: 1.1868 - accuracy: 0.5356 - val_loss: 2.7615 - val_accuracy: 0.2478\n",
            "Epoch 132/1000\n",
            "36/36 [==============================] - 4s 120ms/step - loss: 1.1763 - accuracy: 0.5408 - val_loss: 2.7203 - val_accuracy: 0.2692\n",
            "Epoch 133/1000\n",
            "36/36 [==============================] - 4s 119ms/step - loss: 1.1421 - accuracy: 0.5522 - val_loss: 3.1054 - val_accuracy: 0.2317\n",
            "Epoch 134/1000\n",
            "36/36 [==============================] - 4s 120ms/step - loss: 1.1769 - accuracy: 0.5373 - val_loss: 2.7357 - val_accuracy: 0.2424\n",
            "Epoch 135/1000\n",
            "36/36 [==============================] - 4s 119ms/step - loss: 1.1161 - accuracy: 0.5654 - val_loss: 2.7237 - val_accuracy: 0.2478\n",
            "Epoch 136/1000\n",
            "36/36 [==============================] - 4s 119ms/step - loss: 1.1698 - accuracy: 0.5522 - val_loss: 2.7150 - val_accuracy: 0.2175\n",
            "Epoch 137/1000\n",
            "36/36 [==============================] - 4s 119ms/step - loss: 1.1033 - accuracy: 0.5593 - val_loss: 2.8501 - val_accuracy: 0.2424\n",
            "Epoch 138/1000\n",
            "36/36 [==============================] - 4s 120ms/step - loss: 1.1434 - accuracy: 0.5558 - val_loss: 2.6411 - val_accuracy: 0.2460\n",
            "Epoch 139/1000\n",
            "36/36 [==============================] - 4s 120ms/step - loss: 1.0981 - accuracy: 0.5891 - val_loss: 2.7513 - val_accuracy: 0.2424\n",
            "Epoch 140/1000\n",
            "36/36 [==============================] - 4s 119ms/step - loss: 1.0689 - accuracy: 0.5874 - val_loss: 2.6796 - val_accuracy: 0.2335\n",
            "Epoch 141/1000\n",
            "36/36 [==============================] - 4s 120ms/step - loss: 1.1567 - accuracy: 0.5505 - val_loss: 2.7108 - val_accuracy: 0.2424\n",
            "Epoch 142/1000\n",
            "36/36 [==============================] - 4s 120ms/step - loss: 1.1339 - accuracy: 0.5478 - val_loss: 2.7212 - val_accuracy: 0.2442\n",
            "Epoch 143/1000\n",
            "36/36 [==============================] - 4s 120ms/step - loss: 1.1252 - accuracy: 0.5637 - val_loss: 2.7648 - val_accuracy: 0.2513\n",
            "Epoch 144/1000\n",
            "36/36 [==============================] - 4s 123ms/step - loss: 1.1477 - accuracy: 0.5435 - val_loss: 2.7974 - val_accuracy: 0.2496\n",
            "Epoch 145/1000\n",
            "36/36 [==============================] - 4s 120ms/step - loss: 1.1194 - accuracy: 0.5689 - val_loss: 2.8070 - val_accuracy: 0.2335\n",
            "Epoch 146/1000\n",
            "36/36 [==============================] - 4s 120ms/step - loss: 1.1142 - accuracy: 0.5654 - val_loss: 2.6862 - val_accuracy: 0.2460\n",
            "Epoch 147/1000\n",
            "36/36 [==============================] - 4s 120ms/step - loss: 1.1672 - accuracy: 0.5391 - val_loss: 2.6595 - val_accuracy: 0.2353\n",
            "Epoch 148/1000\n",
            "36/36 [==============================] - 4s 120ms/step - loss: 1.1278 - accuracy: 0.5558 - val_loss: 2.7602 - val_accuracy: 0.2282\n",
            "Epoch 149/1000\n",
            "36/36 [==============================] - 4s 123ms/step - loss: 1.1567 - accuracy: 0.5443 - val_loss: 2.6586 - val_accuracy: 0.2442\n",
            "Epoch 150/1000\n",
            "36/36 [==============================] - 4s 124ms/step - loss: 1.1640 - accuracy: 0.5584 - val_loss: 3.2935 - val_accuracy: 0.2335\n",
            "Epoch 151/1000\n",
            "36/36 [==============================] - 4s 120ms/step - loss: 1.1919 - accuracy: 0.5356 - val_loss: 2.8559 - val_accuracy: 0.2139\n",
            "Epoch 152/1000\n",
            "36/36 [==============================] - 4s 120ms/step - loss: 1.0973 - accuracy: 0.5812 - val_loss: 2.7408 - val_accuracy: 0.2335\n",
            "Epoch 153/1000\n",
            "36/36 [==============================] - 4s 120ms/step - loss: 1.0923 - accuracy: 0.5698 - val_loss: 2.6785 - val_accuracy: 0.2478\n",
            "Epoch 154/1000\n",
            "36/36 [==============================] - 4s 123ms/step - loss: 1.1344 - accuracy: 0.5645 - val_loss: 2.7985 - val_accuracy: 0.2531\n",
            "Epoch 155/1000\n",
            "36/36 [==============================] - 4s 120ms/step - loss: 1.0794 - accuracy: 0.5882 - val_loss: 2.7120 - val_accuracy: 0.2585\n",
            "Epoch 156/1000\n",
            "36/36 [==============================] - 4s 123ms/step - loss: 1.0921 - accuracy: 0.5733 - val_loss: 2.8166 - val_accuracy: 0.2567\n",
            "Epoch 157/1000\n",
            "36/36 [==============================] - 4s 120ms/step - loss: 1.1545 - accuracy: 0.5496 - val_loss: 2.8423 - val_accuracy: 0.2442\n",
            "Epoch 158/1000\n",
            "36/36 [==============================] - 4s 122ms/step - loss: 1.1073 - accuracy: 0.5672 - val_loss: 2.7271 - val_accuracy: 0.2531\n",
            "Epoch 159/1000\n",
            "36/36 [==============================] - 4s 121ms/step - loss: 1.0950 - accuracy: 0.5672 - val_loss: 2.7889 - val_accuracy: 0.2317\n",
            "Epoch 160/1000\n",
            "36/36 [==============================] - 4s 121ms/step - loss: 1.0899 - accuracy: 0.5803 - val_loss: 2.7695 - val_accuracy: 0.2620\n",
            "Epoch 161/1000\n",
            "36/36 [==============================] - 4s 121ms/step - loss: 1.0483 - accuracy: 0.6014 - val_loss: 2.8235 - val_accuracy: 0.2567\n",
            "Epoch 162/1000\n",
            "36/36 [==============================] - 4s 120ms/step - loss: 1.0889 - accuracy: 0.5900 - val_loss: 2.8043 - val_accuracy: 0.2442\n",
            "Epoch 163/1000\n",
            "36/36 [==============================] - 4s 120ms/step - loss: 1.1499 - accuracy: 0.5593 - val_loss: 2.8196 - val_accuracy: 0.2299\n",
            "Epoch 164/1000\n",
            "36/36 [==============================] - 4s 120ms/step - loss: 1.1075 - accuracy: 0.5803 - val_loss: 2.7881 - val_accuracy: 0.2531\n",
            "Epoch 165/1000\n",
            "36/36 [==============================] - 4s 120ms/step - loss: 1.1359 - accuracy: 0.5654 - val_loss: 2.8463 - val_accuracy: 0.2567\n",
            "Epoch 166/1000\n",
            "36/36 [==============================] - 4s 120ms/step - loss: 1.1483 - accuracy: 0.5470 - val_loss: 2.8219 - val_accuracy: 0.2602\n",
            "Epoch 167/1000\n",
            "36/36 [==============================] - 4s 120ms/step - loss: 1.1199 - accuracy: 0.5619 - val_loss: 2.7613 - val_accuracy: 0.2620\n",
            "Epoch 168/1000\n",
            "36/36 [==============================] - 4s 120ms/step - loss: 1.0747 - accuracy: 0.5821 - val_loss: 2.7714 - val_accuracy: 0.2496\n",
            "Epoch 169/1000\n",
            "36/36 [==============================] - 4s 120ms/step - loss: 1.0999 - accuracy: 0.5672 - val_loss: 2.8498 - val_accuracy: 0.2567\n",
            "Epoch 170/1000\n",
            "36/36 [==============================] - 4s 123ms/step - loss: 1.1404 - accuracy: 0.5531 - val_loss: 2.9498 - val_accuracy: 0.2264\n",
            "Epoch 171/1000\n",
            "36/36 [==============================] - 4s 120ms/step - loss: 1.1268 - accuracy: 0.5645 - val_loss: 2.9091 - val_accuracy: 0.2210\n",
            "Epoch 172/1000\n",
            "36/36 [==============================] - 4s 120ms/step - loss: 1.0665 - accuracy: 0.5909 - val_loss: 2.8263 - val_accuracy: 0.2210\n",
            "Epoch 173/1000\n",
            "36/36 [==============================] - 4s 120ms/step - loss: 1.1251 - accuracy: 0.5566 - val_loss: 2.8497 - val_accuracy: 0.2193\n",
            "Epoch 174/1000\n",
            "36/36 [==============================] - 4s 120ms/step - loss: 1.1068 - accuracy: 0.5698 - val_loss: 2.9287 - val_accuracy: 0.2264\n",
            "Epoch 175/1000\n",
            "36/36 [==============================] - 4s 119ms/step - loss: 1.1104 - accuracy: 0.5698 - val_loss: 2.8786 - val_accuracy: 0.2299\n",
            "Epoch 176/1000\n",
            "36/36 [==============================] - 4s 120ms/step - loss: 1.1009 - accuracy: 0.5698 - val_loss: 2.7637 - val_accuracy: 0.2674\n",
            "Epoch 177/1000\n",
            "36/36 [==============================] - 4s 120ms/step - loss: 1.1511 - accuracy: 0.5426 - val_loss: 3.0059 - val_accuracy: 0.2246\n",
            "Epoch 178/1000\n",
            "36/36 [==============================] - 4s 120ms/step - loss: 1.1583 - accuracy: 0.5584 - val_loss: 2.8764 - val_accuracy: 0.2460\n",
            "Epoch 179/1000\n",
            "36/36 [==============================] - 4s 123ms/step - loss: 1.0737 - accuracy: 0.5830 - val_loss: 2.9112 - val_accuracy: 0.2282\n",
            "Epoch 180/1000\n",
            "36/36 [==============================] - 4s 120ms/step - loss: 1.1354 - accuracy: 0.5522 - val_loss: 2.8179 - val_accuracy: 0.2371\n",
            "Epoch 181/1000\n",
            "36/36 [==============================] - 4s 120ms/step - loss: 1.1132 - accuracy: 0.5549 - val_loss: 2.9825 - val_accuracy: 0.2549\n",
            "Epoch 182/1000\n",
            "36/36 [==============================] - 4s 119ms/step - loss: 1.1049 - accuracy: 0.5663 - val_loss: 2.8435 - val_accuracy: 0.2389\n",
            "Epoch 183/1000\n",
            "36/36 [==============================] - 4s 120ms/step - loss: 1.1301 - accuracy: 0.5637 - val_loss: 2.9497 - val_accuracy: 0.2406\n",
            "Epoch 184/1000\n",
            "36/36 [==============================] - 4s 120ms/step - loss: 1.1047 - accuracy: 0.5672 - val_loss: 2.9166 - val_accuracy: 0.2406\n",
            "Epoch 185/1000\n",
            "36/36 [==============================] - 4s 120ms/step - loss: 1.1531 - accuracy: 0.5364 - val_loss: 2.9542 - val_accuracy: 0.2460\n",
            "Epoch 186/1000\n",
            "36/36 [==============================] - 4s 123ms/step - loss: 1.0490 - accuracy: 0.5900 - val_loss: 2.8016 - val_accuracy: 0.2585\n",
            "Epoch 187/1000\n",
            "36/36 [==============================] - 4s 120ms/step - loss: 1.0904 - accuracy: 0.5751 - val_loss: 2.8733 - val_accuracy: 0.2478\n",
            "Epoch 188/1000\n",
            "36/36 [==============================] - 4s 120ms/step - loss: 1.0860 - accuracy: 0.5680 - val_loss: 2.9382 - val_accuracy: 0.2531\n",
            "Epoch 189/1000\n",
            "36/36 [==============================] - 4s 120ms/step - loss: 1.0893 - accuracy: 0.5882 - val_loss: 2.8898 - val_accuracy: 0.2602\n",
            "Epoch 190/1000\n",
            "36/36 [==============================] - 4s 119ms/step - loss: 1.0985 - accuracy: 0.5768 - val_loss: 2.8431 - val_accuracy: 0.2513\n",
            "Epoch 191/1000\n",
            "36/36 [==============================] - 4s 120ms/step - loss: 1.0602 - accuracy: 0.5847 - val_loss: 2.8651 - val_accuracy: 0.2460\n",
            "Epoch 192/1000\n",
            "36/36 [==============================] - 4s 120ms/step - loss: 1.0930 - accuracy: 0.5742 - val_loss: 2.9028 - val_accuracy: 0.2585\n",
            "Epoch 193/1000\n",
            "36/36 [==============================] - 4s 123ms/step - loss: 1.0933 - accuracy: 0.5680 - val_loss: 2.8968 - val_accuracy: 0.2549\n",
            "Epoch 194/1000\n",
            "36/36 [==============================] - 4s 123ms/step - loss: 1.1043 - accuracy: 0.5645 - val_loss: 2.9078 - val_accuracy: 0.2567\n",
            "Epoch 195/1000\n",
            "36/36 [==============================] - 4s 120ms/step - loss: 1.0928 - accuracy: 0.5672 - val_loss: 2.8809 - val_accuracy: 0.2567\n",
            "Epoch 196/1000\n",
            "36/36 [==============================] - 4s 120ms/step - loss: 1.0875 - accuracy: 0.5698 - val_loss: 2.9403 - val_accuracy: 0.2424\n",
            "Epoch 197/1000\n",
            "36/36 [==============================] - 4s 120ms/step - loss: 1.0914 - accuracy: 0.5716 - val_loss: 2.9496 - val_accuracy: 0.2406\n",
            "Epoch 198/1000\n",
            "36/36 [==============================] - 4s 120ms/step - loss: 1.0971 - accuracy: 0.5663 - val_loss: 2.9842 - val_accuracy: 0.2299\n",
            "Epoch 199/1000\n",
            "36/36 [==============================] - 4s 120ms/step - loss: 1.0884 - accuracy: 0.5724 - val_loss: 2.9073 - val_accuracy: 0.2406\n",
            "Epoch 200/1000\n",
            "36/36 [==============================] - 4s 120ms/step - loss: 1.0826 - accuracy: 0.5733 - val_loss: 3.1021 - val_accuracy: 0.2389\n",
            "Epoch 201/1000\n",
            "36/36 [==============================] - 4s 121ms/step - loss: 1.1076 - accuracy: 0.5637 - val_loss: 3.2874 - val_accuracy: 0.2228\n",
            "Epoch 202/1000\n",
            "36/36 [==============================] - 4s 120ms/step - loss: 1.1169 - accuracy: 0.5610 - val_loss: 2.9312 - val_accuracy: 0.2816\n",
            "Epoch 203/1000\n",
            "36/36 [==============================] - 4s 121ms/step - loss: 1.1565 - accuracy: 0.5558 - val_loss: 3.5502 - val_accuracy: 0.2103\n",
            "Epoch 204/1000\n",
            "36/36 [==============================] - 4s 121ms/step - loss: 1.1102 - accuracy: 0.5795 - val_loss: 2.8863 - val_accuracy: 0.2424\n",
            "Epoch 205/1000\n",
            "36/36 [==============================] - 4s 121ms/step - loss: 1.0650 - accuracy: 0.5847 - val_loss: 2.8397 - val_accuracy: 0.2567\n",
            "Epoch 206/1000\n",
            "36/36 [==============================] - 4s 120ms/step - loss: 1.0768 - accuracy: 0.5821 - val_loss: 2.9455 - val_accuracy: 0.2406\n",
            "Epoch 207/1000\n",
            "36/36 [==============================] - 4s 124ms/step - loss: 1.1151 - accuracy: 0.5680 - val_loss: 2.8971 - val_accuracy: 0.2460\n",
            "Epoch 208/1000\n",
            "36/36 [==============================] - 4s 120ms/step - loss: 1.1106 - accuracy: 0.5558 - val_loss: 2.9021 - val_accuracy: 0.2638\n",
            "Epoch 209/1000\n",
            "36/36 [==============================] - 4s 121ms/step - loss: 1.0765 - accuracy: 0.5751 - val_loss: 3.0317 - val_accuracy: 0.2460\n",
            "Epoch 210/1000\n",
            "36/36 [==============================] - 4s 120ms/step - loss: 1.0815 - accuracy: 0.5663 - val_loss: 3.1190 - val_accuracy: 0.2228\n",
            "Epoch 211/1000\n",
            "36/36 [==============================] - 4s 121ms/step - loss: 1.0980 - accuracy: 0.5672 - val_loss: 2.9733 - val_accuracy: 0.2460\n",
            "Epoch 212/1000\n",
            "36/36 [==============================] - 4s 122ms/step - loss: 1.0989 - accuracy: 0.5654 - val_loss: 2.9756 - val_accuracy: 0.2549\n",
            "Epoch 213/1000\n",
            "36/36 [==============================] - 4s 124ms/step - loss: 1.0503 - accuracy: 0.5874 - val_loss: 2.9656 - val_accuracy: 0.2335\n",
            "Epoch 214/1000\n",
            "36/36 [==============================] - 4s 121ms/step - loss: 1.0256 - accuracy: 0.5900 - val_loss: 3.0496 - val_accuracy: 0.2531\n",
            "Epoch 215/1000\n",
            "36/36 [==============================] - 4s 121ms/step - loss: 1.0465 - accuracy: 0.5909 - val_loss: 3.0145 - val_accuracy: 0.2371\n",
            "Epoch 216/1000\n",
            "36/36 [==============================] - 4s 121ms/step - loss: 1.0489 - accuracy: 0.5874 - val_loss: 3.0128 - val_accuracy: 0.2496\n",
            "Epoch 217/1000\n",
            "36/36 [==============================] - 4s 121ms/step - loss: 1.0509 - accuracy: 0.5874 - val_loss: 3.1030 - val_accuracy: 0.2585\n",
            "Epoch 218/1000\n",
            "36/36 [==============================] - 4s 123ms/step - loss: 1.0593 - accuracy: 0.5891 - val_loss: 3.0117 - val_accuracy: 0.2656\n",
            "Epoch 219/1000\n",
            "36/36 [==============================] - 4s 120ms/step - loss: 1.0838 - accuracy: 0.5751 - val_loss: 3.1335 - val_accuracy: 0.2335\n",
            "Epoch 220/1000\n",
            "36/36 [==============================] - 4s 121ms/step - loss: 1.1230 - accuracy: 0.5584 - val_loss: 3.0290 - val_accuracy: 0.2406\n",
            "Epoch 221/1000\n",
            "36/36 [==============================] - 4s 121ms/step - loss: 1.0939 - accuracy: 0.5689 - val_loss: 2.9755 - val_accuracy: 0.2371\n",
            "Epoch 222/1000\n",
            "36/36 [==============================] - 4s 120ms/step - loss: 1.1043 - accuracy: 0.5593 - val_loss: 2.9967 - val_accuracy: 0.2478\n",
            "Epoch 223/1000\n",
            "36/36 [==============================] - 4s 121ms/step - loss: 1.0942 - accuracy: 0.5716 - val_loss: 3.1055 - val_accuracy: 0.2282\n",
            "Epoch 224/1000\n",
            "36/36 [==============================] - 4s 121ms/step - loss: 1.0382 - accuracy: 0.5953 - val_loss: 3.0846 - val_accuracy: 0.2513\n",
            "Epoch 225/1000\n",
            "36/36 [==============================] - 4s 120ms/step - loss: 1.0893 - accuracy: 0.5680 - val_loss: 3.0546 - val_accuracy: 0.2585\n",
            "Epoch 226/1000\n",
            "36/36 [==============================] - 4s 121ms/step - loss: 1.0725 - accuracy: 0.5707 - val_loss: 2.9610 - val_accuracy: 0.2656\n",
            "Epoch 227/1000\n",
            "36/36 [==============================] - 4s 124ms/step - loss: 1.0835 - accuracy: 0.5751 - val_loss: 2.9897 - val_accuracy: 0.2656\n",
            "Epoch 228/1000\n",
            "36/36 [==============================] - 4s 121ms/step - loss: 1.0611 - accuracy: 0.5847 - val_loss: 3.0576 - val_accuracy: 0.2424\n",
            "Epoch 229/1000\n",
            "36/36 [==============================] - 4s 120ms/step - loss: 1.0920 - accuracy: 0.5637 - val_loss: 2.9586 - val_accuracy: 0.2549\n",
            "Epoch 230/1000\n",
            "36/36 [==============================] - 4s 121ms/step - loss: 1.1065 - accuracy: 0.5610 - val_loss: 2.9983 - val_accuracy: 0.2692\n",
            "Epoch 231/1000\n",
            "36/36 [==============================] - 4s 121ms/step - loss: 1.0611 - accuracy: 0.5716 - val_loss: 3.0171 - val_accuracy: 0.2442\n",
            "Epoch 232/1000\n",
            "36/36 [==============================] - 4s 121ms/step - loss: 1.0074 - accuracy: 0.6040 - val_loss: 3.0626 - val_accuracy: 0.2389\n",
            "Epoch 233/1000\n",
            "36/36 [==============================] - 4s 120ms/step - loss: 1.1011 - accuracy: 0.5584 - val_loss: 3.0923 - val_accuracy: 0.2656\n",
            "Epoch 234/1000\n",
            "36/36 [==============================] - 4s 121ms/step - loss: 1.0045 - accuracy: 0.6119 - val_loss: 3.0021 - val_accuracy: 0.2371\n",
            "Epoch 235/1000\n",
            "36/36 [==============================] - 4s 121ms/step - loss: 1.0637 - accuracy: 0.5751 - val_loss: 3.0200 - val_accuracy: 0.2496\n",
            "Epoch 236/1000\n",
            "36/36 [==============================] - 4s 121ms/step - loss: 1.0697 - accuracy: 0.5821 - val_loss: 2.8957 - val_accuracy: 0.2674\n",
            "Epoch 237/1000\n",
            "36/36 [==============================] - 4s 121ms/step - loss: 1.0330 - accuracy: 0.5926 - val_loss: 2.9379 - val_accuracy: 0.2406\n",
            "Epoch 238/1000\n",
            "36/36 [==============================] - 4s 121ms/step - loss: 1.0498 - accuracy: 0.5900 - val_loss: 3.0222 - val_accuracy: 0.2460\n",
            "Epoch 239/1000\n",
            "36/36 [==============================] - 4s 120ms/step - loss: 1.0727 - accuracy: 0.5707 - val_loss: 3.0744 - val_accuracy: 0.2513\n",
            "Epoch 240/1000\n",
            "36/36 [==============================] - 4s 121ms/step - loss: 0.9880 - accuracy: 0.6076 - val_loss: 2.9891 - val_accuracy: 0.2406\n",
            "Epoch 241/1000\n",
            "20/36 [===============>..............] - ETA: 1s - loss: 1.0461 - accuracy: 0.5797"
          ]
        },
        {
          "output_type": "error",
          "ename": "KeyboardInterrupt",
          "evalue": "ignored",
          "traceback": [
            "\u001b[0;31m---------------------------------------------------------------------------\u001b[0m",
            "\u001b[0;31mKeyboardInterrupt\u001b[0m                         Traceback (most recent call last)",
            "\u001b[0;32m<ipython-input-46-b8e0128a0e61>\u001b[0m in \u001b[0;36m<module>\u001b[0;34m\u001b[0m\n\u001b[0;32m----> 1\u001b[0;31m \u001b[0mhistory\u001b[0m \u001b[0;34m=\u001b[0m \u001b[0mmodel\u001b[0m\u001b[0;34m.\u001b[0m\u001b[0mfit\u001b[0m\u001b[0;34m(\u001b[0m\u001b[0mX_train\u001b[0m\u001b[0;34m,\u001b[0m \u001b[0my_train\u001b[0m\u001b[0;34m,\u001b[0m \u001b[0mepochs\u001b[0m\u001b[0;34m=\u001b[0m\u001b[0;36m1000\u001b[0m\u001b[0;34m,\u001b[0m \u001b[0mvalidation_data\u001b[0m\u001b[0;34m=\u001b[0m\u001b[0;34m(\u001b[0m\u001b[0mX_test\u001b[0m\u001b[0;34m,\u001b[0m \u001b[0my_test\u001b[0m\u001b[0;34m)\u001b[0m\u001b[0;34m)\u001b[0m\u001b[0;34m\u001b[0m\u001b[0;34m\u001b[0m\u001b[0m\n\u001b[0m",
            "\u001b[0;32m/usr/local/lib/python3.7/dist-packages/keras/utils/traceback_utils.py\u001b[0m in \u001b[0;36merror_handler\u001b[0;34m(*args, **kwargs)\u001b[0m\n\u001b[1;32m     62\u001b[0m     \u001b[0mfiltered_tb\u001b[0m \u001b[0;34m=\u001b[0m \u001b[0;32mNone\u001b[0m\u001b[0;34m\u001b[0m\u001b[0;34m\u001b[0m\u001b[0m\n\u001b[1;32m     63\u001b[0m     \u001b[0;32mtry\u001b[0m\u001b[0;34m:\u001b[0m\u001b[0;34m\u001b[0m\u001b[0;34m\u001b[0m\u001b[0m\n\u001b[0;32m---> 64\u001b[0;31m       \u001b[0;32mreturn\u001b[0m \u001b[0mfn\u001b[0m\u001b[0;34m(\u001b[0m\u001b[0;34m*\u001b[0m\u001b[0margs\u001b[0m\u001b[0;34m,\u001b[0m \u001b[0;34m**\u001b[0m\u001b[0mkwargs\u001b[0m\u001b[0;34m)\u001b[0m\u001b[0;34m\u001b[0m\u001b[0;34m\u001b[0m\u001b[0m\n\u001b[0m\u001b[1;32m     65\u001b[0m     \u001b[0;32mexcept\u001b[0m \u001b[0mException\u001b[0m \u001b[0;32mas\u001b[0m \u001b[0me\u001b[0m\u001b[0;34m:\u001b[0m  \u001b[0;31m# pylint: disable=broad-except\u001b[0m\u001b[0;34m\u001b[0m\u001b[0;34m\u001b[0m\u001b[0m\n\u001b[1;32m     66\u001b[0m       \u001b[0mfiltered_tb\u001b[0m \u001b[0;34m=\u001b[0m \u001b[0m_process_traceback_frames\u001b[0m\u001b[0;34m(\u001b[0m\u001b[0me\u001b[0m\u001b[0;34m.\u001b[0m\u001b[0m__traceback__\u001b[0m\u001b[0;34m)\u001b[0m\u001b[0;34m\u001b[0m\u001b[0;34m\u001b[0m\u001b[0m\n",
            "\u001b[0;32m/usr/local/lib/python3.7/dist-packages/keras/engine/training.py\u001b[0m in \u001b[0;36mfit\u001b[0;34m(self, x, y, batch_size, epochs, verbose, callbacks, validation_split, validation_data, shuffle, class_weight, sample_weight, initial_epoch, steps_per_epoch, validation_steps, validation_batch_size, validation_freq, max_queue_size, workers, use_multiprocessing)\u001b[0m\n\u001b[1;32m   1387\u001b[0m               \u001b[0mlogs\u001b[0m \u001b[0;34m=\u001b[0m \u001b[0mtmp_logs\u001b[0m  \u001b[0;31m# No error, now safe to assign to logs.\u001b[0m\u001b[0;34m\u001b[0m\u001b[0;34m\u001b[0m\u001b[0m\n\u001b[1;32m   1388\u001b[0m               \u001b[0mend_step\u001b[0m \u001b[0;34m=\u001b[0m \u001b[0mstep\u001b[0m \u001b[0;34m+\u001b[0m \u001b[0mdata_handler\u001b[0m\u001b[0;34m.\u001b[0m\u001b[0mstep_increment\u001b[0m\u001b[0;34m\u001b[0m\u001b[0;34m\u001b[0m\u001b[0m\n\u001b[0;32m-> 1389\u001b[0;31m               \u001b[0mcallbacks\u001b[0m\u001b[0;34m.\u001b[0m\u001b[0mon_train_batch_end\u001b[0m\u001b[0;34m(\u001b[0m\u001b[0mend_step\u001b[0m\u001b[0;34m,\u001b[0m \u001b[0mlogs\u001b[0m\u001b[0;34m)\u001b[0m\u001b[0;34m\u001b[0m\u001b[0;34m\u001b[0m\u001b[0m\n\u001b[0m\u001b[1;32m   1390\u001b[0m               \u001b[0;32mif\u001b[0m \u001b[0mself\u001b[0m\u001b[0;34m.\u001b[0m\u001b[0mstop_training\u001b[0m\u001b[0;34m:\u001b[0m\u001b[0;34m\u001b[0m\u001b[0;34m\u001b[0m\u001b[0m\n\u001b[1;32m   1391\u001b[0m                 \u001b[0;32mbreak\u001b[0m\u001b[0;34m\u001b[0m\u001b[0;34m\u001b[0m\u001b[0m\n",
            "\u001b[0;32m/usr/local/lib/python3.7/dist-packages/keras/callbacks.py\u001b[0m in \u001b[0;36mon_train_batch_end\u001b[0;34m(self, batch, logs)\u001b[0m\n\u001b[1;32m    436\u001b[0m     \"\"\"\n\u001b[1;32m    437\u001b[0m     \u001b[0;32mif\u001b[0m \u001b[0mself\u001b[0m\u001b[0;34m.\u001b[0m\u001b[0m_should_call_train_batch_hooks\u001b[0m\u001b[0;34m:\u001b[0m\u001b[0;34m\u001b[0m\u001b[0;34m\u001b[0m\u001b[0m\n\u001b[0;32m--> 438\u001b[0;31m       \u001b[0mself\u001b[0m\u001b[0;34m.\u001b[0m\u001b[0m_call_batch_hook\u001b[0m\u001b[0;34m(\u001b[0m\u001b[0mModeKeys\u001b[0m\u001b[0;34m.\u001b[0m\u001b[0mTRAIN\u001b[0m\u001b[0;34m,\u001b[0m \u001b[0;34m'end'\u001b[0m\u001b[0;34m,\u001b[0m \u001b[0mbatch\u001b[0m\u001b[0;34m,\u001b[0m \u001b[0mlogs\u001b[0m\u001b[0;34m=\u001b[0m\u001b[0mlogs\u001b[0m\u001b[0;34m)\u001b[0m\u001b[0;34m\u001b[0m\u001b[0;34m\u001b[0m\u001b[0m\n\u001b[0m\u001b[1;32m    439\u001b[0m \u001b[0;34m\u001b[0m\u001b[0m\n\u001b[1;32m    440\u001b[0m   \u001b[0;32mdef\u001b[0m \u001b[0mon_test_batch_begin\u001b[0m\u001b[0;34m(\u001b[0m\u001b[0mself\u001b[0m\u001b[0;34m,\u001b[0m \u001b[0mbatch\u001b[0m\u001b[0;34m,\u001b[0m \u001b[0mlogs\u001b[0m\u001b[0;34m=\u001b[0m\u001b[0;32mNone\u001b[0m\u001b[0;34m)\u001b[0m\u001b[0;34m:\u001b[0m\u001b[0;34m\u001b[0m\u001b[0;34m\u001b[0m\u001b[0m\n",
            "\u001b[0;32m/usr/local/lib/python3.7/dist-packages/keras/callbacks.py\u001b[0m in \u001b[0;36m_call_batch_hook\u001b[0;34m(self, mode, hook, batch, logs)\u001b[0m\n\u001b[1;32m    295\u001b[0m       \u001b[0mself\u001b[0m\u001b[0;34m.\u001b[0m\u001b[0m_call_batch_begin_hook\u001b[0m\u001b[0;34m(\u001b[0m\u001b[0mmode\u001b[0m\u001b[0;34m,\u001b[0m \u001b[0mbatch\u001b[0m\u001b[0;34m,\u001b[0m \u001b[0mlogs\u001b[0m\u001b[0;34m)\u001b[0m\u001b[0;34m\u001b[0m\u001b[0;34m\u001b[0m\u001b[0m\n\u001b[1;32m    296\u001b[0m     \u001b[0;32melif\u001b[0m \u001b[0mhook\u001b[0m \u001b[0;34m==\u001b[0m \u001b[0;34m'end'\u001b[0m\u001b[0;34m:\u001b[0m\u001b[0;34m\u001b[0m\u001b[0;34m\u001b[0m\u001b[0m\n\u001b[0;32m--> 297\u001b[0;31m       \u001b[0mself\u001b[0m\u001b[0;34m.\u001b[0m\u001b[0m_call_batch_end_hook\u001b[0m\u001b[0;34m(\u001b[0m\u001b[0mmode\u001b[0m\u001b[0;34m,\u001b[0m \u001b[0mbatch\u001b[0m\u001b[0;34m,\u001b[0m \u001b[0mlogs\u001b[0m\u001b[0;34m)\u001b[0m\u001b[0;34m\u001b[0m\u001b[0;34m\u001b[0m\u001b[0m\n\u001b[0m\u001b[1;32m    298\u001b[0m     \u001b[0;32melse\u001b[0m\u001b[0;34m:\u001b[0m\u001b[0;34m\u001b[0m\u001b[0;34m\u001b[0m\u001b[0m\n\u001b[1;32m    299\u001b[0m       raise ValueError(\n",
            "\u001b[0;32m/usr/local/lib/python3.7/dist-packages/keras/callbacks.py\u001b[0m in \u001b[0;36m_call_batch_end_hook\u001b[0;34m(self, mode, batch, logs)\u001b[0m\n\u001b[1;32m    316\u001b[0m       \u001b[0mself\u001b[0m\u001b[0;34m.\u001b[0m\u001b[0m_batch_times\u001b[0m\u001b[0;34m.\u001b[0m\u001b[0mappend\u001b[0m\u001b[0;34m(\u001b[0m\u001b[0mbatch_time\u001b[0m\u001b[0;34m)\u001b[0m\u001b[0;34m\u001b[0m\u001b[0;34m\u001b[0m\u001b[0m\n\u001b[1;32m    317\u001b[0m \u001b[0;34m\u001b[0m\u001b[0m\n\u001b[0;32m--> 318\u001b[0;31m     \u001b[0mself\u001b[0m\u001b[0;34m.\u001b[0m\u001b[0m_call_batch_hook_helper\u001b[0m\u001b[0;34m(\u001b[0m\u001b[0mhook_name\u001b[0m\u001b[0;34m,\u001b[0m \u001b[0mbatch\u001b[0m\u001b[0;34m,\u001b[0m \u001b[0mlogs\u001b[0m\u001b[0;34m)\u001b[0m\u001b[0;34m\u001b[0m\u001b[0;34m\u001b[0m\u001b[0m\n\u001b[0m\u001b[1;32m    319\u001b[0m \u001b[0;34m\u001b[0m\u001b[0m\n\u001b[1;32m    320\u001b[0m     \u001b[0;32mif\u001b[0m \u001b[0mlen\u001b[0m\u001b[0;34m(\u001b[0m\u001b[0mself\u001b[0m\u001b[0;34m.\u001b[0m\u001b[0m_batch_times\u001b[0m\u001b[0;34m)\u001b[0m \u001b[0;34m>=\u001b[0m \u001b[0mself\u001b[0m\u001b[0;34m.\u001b[0m\u001b[0m_num_batches_for_timing_check\u001b[0m\u001b[0;34m:\u001b[0m\u001b[0;34m\u001b[0m\u001b[0;34m\u001b[0m\u001b[0m\n",
            "\u001b[0;32m/usr/local/lib/python3.7/dist-packages/keras/callbacks.py\u001b[0m in \u001b[0;36m_call_batch_hook_helper\u001b[0;34m(self, hook_name, batch, logs)\u001b[0m\n\u001b[1;32m    354\u001b[0m     \u001b[0;32mfor\u001b[0m \u001b[0mcallback\u001b[0m \u001b[0;32min\u001b[0m \u001b[0mself\u001b[0m\u001b[0;34m.\u001b[0m\u001b[0mcallbacks\u001b[0m\u001b[0;34m:\u001b[0m\u001b[0;34m\u001b[0m\u001b[0;34m\u001b[0m\u001b[0m\n\u001b[1;32m    355\u001b[0m       \u001b[0mhook\u001b[0m \u001b[0;34m=\u001b[0m \u001b[0mgetattr\u001b[0m\u001b[0;34m(\u001b[0m\u001b[0mcallback\u001b[0m\u001b[0;34m,\u001b[0m \u001b[0mhook_name\u001b[0m\u001b[0;34m)\u001b[0m\u001b[0;34m\u001b[0m\u001b[0;34m\u001b[0m\u001b[0m\n\u001b[0;32m--> 356\u001b[0;31m       \u001b[0mhook\u001b[0m\u001b[0;34m(\u001b[0m\u001b[0mbatch\u001b[0m\u001b[0;34m,\u001b[0m \u001b[0mlogs\u001b[0m\u001b[0;34m)\u001b[0m\u001b[0;34m\u001b[0m\u001b[0;34m\u001b[0m\u001b[0m\n\u001b[0m\u001b[1;32m    357\u001b[0m \u001b[0;34m\u001b[0m\u001b[0m\n\u001b[1;32m    358\u001b[0m     \u001b[0;32mif\u001b[0m \u001b[0mself\u001b[0m\u001b[0;34m.\u001b[0m\u001b[0m_check_timing\u001b[0m\u001b[0;34m:\u001b[0m\u001b[0;34m\u001b[0m\u001b[0;34m\u001b[0m\u001b[0m\n",
            "\u001b[0;32m/usr/local/lib/python3.7/dist-packages/keras/callbacks.py\u001b[0m in \u001b[0;36mon_train_batch_end\u001b[0;34m(self, batch, logs)\u001b[0m\n\u001b[1;32m   1032\u001b[0m \u001b[0;34m\u001b[0m\u001b[0m\n\u001b[1;32m   1033\u001b[0m   \u001b[0;32mdef\u001b[0m \u001b[0mon_train_batch_end\u001b[0m\u001b[0;34m(\u001b[0m\u001b[0mself\u001b[0m\u001b[0;34m,\u001b[0m \u001b[0mbatch\u001b[0m\u001b[0;34m,\u001b[0m \u001b[0mlogs\u001b[0m\u001b[0;34m=\u001b[0m\u001b[0;32mNone\u001b[0m\u001b[0;34m)\u001b[0m\u001b[0;34m:\u001b[0m\u001b[0;34m\u001b[0m\u001b[0;34m\u001b[0m\u001b[0m\n\u001b[0;32m-> 1034\u001b[0;31m     \u001b[0mself\u001b[0m\u001b[0;34m.\u001b[0m\u001b[0m_batch_update_progbar\u001b[0m\u001b[0;34m(\u001b[0m\u001b[0mbatch\u001b[0m\u001b[0;34m,\u001b[0m \u001b[0mlogs\u001b[0m\u001b[0;34m)\u001b[0m\u001b[0;34m\u001b[0m\u001b[0;34m\u001b[0m\u001b[0m\n\u001b[0m\u001b[1;32m   1035\u001b[0m \u001b[0;34m\u001b[0m\u001b[0m\n\u001b[1;32m   1036\u001b[0m   \u001b[0;32mdef\u001b[0m \u001b[0mon_test_batch_end\u001b[0m\u001b[0;34m(\u001b[0m\u001b[0mself\u001b[0m\u001b[0;34m,\u001b[0m \u001b[0mbatch\u001b[0m\u001b[0;34m,\u001b[0m \u001b[0mlogs\u001b[0m\u001b[0;34m=\u001b[0m\u001b[0;32mNone\u001b[0m\u001b[0;34m)\u001b[0m\u001b[0;34m:\u001b[0m\u001b[0;34m\u001b[0m\u001b[0;34m\u001b[0m\u001b[0m\n",
            "\u001b[0;32m/usr/local/lib/python3.7/dist-packages/keras/callbacks.py\u001b[0m in \u001b[0;36m_batch_update_progbar\u001b[0;34m(self, batch, logs)\u001b[0m\n\u001b[1;32m   1104\u001b[0m     \u001b[0;32mif\u001b[0m \u001b[0mself\u001b[0m\u001b[0;34m.\u001b[0m\u001b[0mverbose\u001b[0m \u001b[0;34m==\u001b[0m \u001b[0;36m1\u001b[0m\u001b[0;34m:\u001b[0m\u001b[0;34m\u001b[0m\u001b[0;34m\u001b[0m\u001b[0m\n\u001b[1;32m   1105\u001b[0m       \u001b[0;31m# Only block async when verbose = 1.\u001b[0m\u001b[0;34m\u001b[0m\u001b[0;34m\u001b[0m\u001b[0;34m\u001b[0m\u001b[0m\n\u001b[0;32m-> 1106\u001b[0;31m       \u001b[0mlogs\u001b[0m \u001b[0;34m=\u001b[0m \u001b[0mtf_utils\u001b[0m\u001b[0;34m.\u001b[0m\u001b[0msync_to_numpy_or_python_type\u001b[0m\u001b[0;34m(\u001b[0m\u001b[0mlogs\u001b[0m\u001b[0;34m)\u001b[0m\u001b[0;34m\u001b[0m\u001b[0;34m\u001b[0m\u001b[0m\n\u001b[0m\u001b[1;32m   1107\u001b[0m       \u001b[0mself\u001b[0m\u001b[0;34m.\u001b[0m\u001b[0mprogbar\u001b[0m\u001b[0;34m.\u001b[0m\u001b[0mupdate\u001b[0m\u001b[0;34m(\u001b[0m\u001b[0mself\u001b[0m\u001b[0;34m.\u001b[0m\u001b[0mseen\u001b[0m\u001b[0;34m,\u001b[0m \u001b[0mlist\u001b[0m\u001b[0;34m(\u001b[0m\u001b[0mlogs\u001b[0m\u001b[0;34m.\u001b[0m\u001b[0mitems\u001b[0m\u001b[0;34m(\u001b[0m\u001b[0;34m)\u001b[0m\u001b[0;34m)\u001b[0m\u001b[0;34m,\u001b[0m \u001b[0mfinalize\u001b[0m\u001b[0;34m=\u001b[0m\u001b[0;32mFalse\u001b[0m\u001b[0;34m)\u001b[0m\u001b[0;34m\u001b[0m\u001b[0;34m\u001b[0m\u001b[0m\n\u001b[1;32m   1108\u001b[0m \u001b[0;34m\u001b[0m\u001b[0m\n",
            "\u001b[0;32m/usr/local/lib/python3.7/dist-packages/keras/utils/tf_utils.py\u001b[0m in \u001b[0;36msync_to_numpy_or_python_type\u001b[0;34m(tensors)\u001b[0m\n\u001b[1;32m    561\u001b[0m     \u001b[0;32mreturn\u001b[0m \u001b[0mt\u001b[0m\u001b[0;34m.\u001b[0m\u001b[0mitem\u001b[0m\u001b[0;34m(\u001b[0m\u001b[0;34m)\u001b[0m \u001b[0;32mif\u001b[0m \u001b[0mnp\u001b[0m\u001b[0;34m.\u001b[0m\u001b[0mndim\u001b[0m\u001b[0;34m(\u001b[0m\u001b[0mt\u001b[0m\u001b[0;34m)\u001b[0m \u001b[0;34m==\u001b[0m \u001b[0;36m0\u001b[0m \u001b[0;32melse\u001b[0m \u001b[0mt\u001b[0m\u001b[0;34m\u001b[0m\u001b[0;34m\u001b[0m\u001b[0m\n\u001b[1;32m    562\u001b[0m \u001b[0;34m\u001b[0m\u001b[0m\n\u001b[0;32m--> 563\u001b[0;31m   \u001b[0;32mreturn\u001b[0m \u001b[0mtf\u001b[0m\u001b[0;34m.\u001b[0m\u001b[0mnest\u001b[0m\u001b[0;34m.\u001b[0m\u001b[0mmap_structure\u001b[0m\u001b[0;34m(\u001b[0m\u001b[0m_to_single_numpy_or_python_type\u001b[0m\u001b[0;34m,\u001b[0m \u001b[0mtensors\u001b[0m\u001b[0;34m)\u001b[0m\u001b[0;34m\u001b[0m\u001b[0;34m\u001b[0m\u001b[0m\n\u001b[0m\u001b[1;32m    564\u001b[0m \u001b[0;34m\u001b[0m\u001b[0m\n\u001b[1;32m    565\u001b[0m \u001b[0;34m\u001b[0m\u001b[0m\n",
            "\u001b[0;32m/usr/local/lib/python3.7/dist-packages/tensorflow/python/util/nest.py\u001b[0m in \u001b[0;36mmap_structure\u001b[0;34m(func, *structure, **kwargs)\u001b[0m\n\u001b[1;32m    912\u001b[0m \u001b[0;34m\u001b[0m\u001b[0m\n\u001b[1;32m    913\u001b[0m   return pack_sequence_as(\n\u001b[0;32m--> 914\u001b[0;31m       \u001b[0mstructure\u001b[0m\u001b[0;34m[\u001b[0m\u001b[0;36m0\u001b[0m\u001b[0;34m]\u001b[0m\u001b[0;34m,\u001b[0m \u001b[0;34m[\u001b[0m\u001b[0mfunc\u001b[0m\u001b[0;34m(\u001b[0m\u001b[0;34m*\u001b[0m\u001b[0mx\u001b[0m\u001b[0;34m)\u001b[0m \u001b[0;32mfor\u001b[0m \u001b[0mx\u001b[0m \u001b[0;32min\u001b[0m \u001b[0mentries\u001b[0m\u001b[0;34m]\u001b[0m\u001b[0;34m,\u001b[0m\u001b[0;34m\u001b[0m\u001b[0;34m\u001b[0m\u001b[0m\n\u001b[0m\u001b[1;32m    915\u001b[0m       expand_composites=expand_composites)\n\u001b[1;32m    916\u001b[0m \u001b[0;34m\u001b[0m\u001b[0m\n",
            "\u001b[0;32m/usr/local/lib/python3.7/dist-packages/tensorflow/python/util/nest.py\u001b[0m in \u001b[0;36m<listcomp>\u001b[0;34m(.0)\u001b[0m\n\u001b[1;32m    912\u001b[0m \u001b[0;34m\u001b[0m\u001b[0m\n\u001b[1;32m    913\u001b[0m   return pack_sequence_as(\n\u001b[0;32m--> 914\u001b[0;31m       \u001b[0mstructure\u001b[0m\u001b[0;34m[\u001b[0m\u001b[0;36m0\u001b[0m\u001b[0;34m]\u001b[0m\u001b[0;34m,\u001b[0m \u001b[0;34m[\u001b[0m\u001b[0mfunc\u001b[0m\u001b[0;34m(\u001b[0m\u001b[0;34m*\u001b[0m\u001b[0mx\u001b[0m\u001b[0;34m)\u001b[0m \u001b[0;32mfor\u001b[0m \u001b[0mx\u001b[0m \u001b[0;32min\u001b[0m \u001b[0mentries\u001b[0m\u001b[0;34m]\u001b[0m\u001b[0;34m,\u001b[0m\u001b[0;34m\u001b[0m\u001b[0;34m\u001b[0m\u001b[0m\n\u001b[0m\u001b[1;32m    915\u001b[0m       expand_composites=expand_composites)\n\u001b[1;32m    916\u001b[0m \u001b[0;34m\u001b[0m\u001b[0m\n",
            "\u001b[0;32m/usr/local/lib/python3.7/dist-packages/keras/utils/tf_utils.py\u001b[0m in \u001b[0;36m_to_single_numpy_or_python_type\u001b[0;34m(t)\u001b[0m\n\u001b[1;32m    555\u001b[0m     \u001b[0;31m# Don't turn ragged or sparse tensors to NumPy.\u001b[0m\u001b[0;34m\u001b[0m\u001b[0;34m\u001b[0m\u001b[0;34m\u001b[0m\u001b[0m\n\u001b[1;32m    556\u001b[0m     \u001b[0;32mif\u001b[0m \u001b[0misinstance\u001b[0m\u001b[0;34m(\u001b[0m\u001b[0mt\u001b[0m\u001b[0;34m,\u001b[0m \u001b[0mtf\u001b[0m\u001b[0;34m.\u001b[0m\u001b[0mTensor\u001b[0m\u001b[0;34m)\u001b[0m\u001b[0;34m:\u001b[0m\u001b[0;34m\u001b[0m\u001b[0;34m\u001b[0m\u001b[0m\n\u001b[0;32m--> 557\u001b[0;31m       \u001b[0mt\u001b[0m \u001b[0;34m=\u001b[0m \u001b[0mt\u001b[0m\u001b[0;34m.\u001b[0m\u001b[0mnumpy\u001b[0m\u001b[0;34m(\u001b[0m\u001b[0;34m)\u001b[0m\u001b[0;34m\u001b[0m\u001b[0;34m\u001b[0m\u001b[0m\n\u001b[0m\u001b[1;32m    558\u001b[0m     \u001b[0;31m# Strings, ragged and sparse tensors don't have .item(). Return them as-is.\u001b[0m\u001b[0;34m\u001b[0m\u001b[0;34m\u001b[0m\u001b[0;34m\u001b[0m\u001b[0m\n\u001b[1;32m    559\u001b[0m     \u001b[0;32mif\u001b[0m \u001b[0;32mnot\u001b[0m \u001b[0misinstance\u001b[0m\u001b[0;34m(\u001b[0m\u001b[0mt\u001b[0m\u001b[0;34m,\u001b[0m \u001b[0;34m(\u001b[0m\u001b[0mnp\u001b[0m\u001b[0;34m.\u001b[0m\u001b[0mndarray\u001b[0m\u001b[0;34m,\u001b[0m \u001b[0mnp\u001b[0m\u001b[0;34m.\u001b[0m\u001b[0mgeneric\u001b[0m\u001b[0;34m)\u001b[0m\u001b[0;34m)\u001b[0m\u001b[0;34m:\u001b[0m\u001b[0;34m\u001b[0m\u001b[0;34m\u001b[0m\u001b[0m\n",
            "\u001b[0;32m/usr/local/lib/python3.7/dist-packages/tensorflow/python/framework/ops.py\u001b[0m in \u001b[0;36mnumpy\u001b[0;34m(self)\u001b[0m\n\u001b[1;32m   1221\u001b[0m     \"\"\"\n\u001b[1;32m   1222\u001b[0m     \u001b[0;31m# TODO(slebedev): Consider avoiding a copy for non-CPU or remote tensors.\u001b[0m\u001b[0;34m\u001b[0m\u001b[0;34m\u001b[0m\u001b[0;34m\u001b[0m\u001b[0m\n\u001b[0;32m-> 1223\u001b[0;31m     \u001b[0mmaybe_arr\u001b[0m \u001b[0;34m=\u001b[0m \u001b[0mself\u001b[0m\u001b[0;34m.\u001b[0m\u001b[0m_numpy\u001b[0m\u001b[0;34m(\u001b[0m\u001b[0;34m)\u001b[0m  \u001b[0;31m# pylint: disable=protected-access\u001b[0m\u001b[0;34m\u001b[0m\u001b[0;34m\u001b[0m\u001b[0m\n\u001b[0m\u001b[1;32m   1224\u001b[0m     \u001b[0;32mreturn\u001b[0m \u001b[0mmaybe_arr\u001b[0m\u001b[0;34m.\u001b[0m\u001b[0mcopy\u001b[0m\u001b[0;34m(\u001b[0m\u001b[0;34m)\u001b[0m \u001b[0;32mif\u001b[0m \u001b[0misinstance\u001b[0m\u001b[0;34m(\u001b[0m\u001b[0mmaybe_arr\u001b[0m\u001b[0;34m,\u001b[0m \u001b[0mnp\u001b[0m\u001b[0;34m.\u001b[0m\u001b[0mndarray\u001b[0m\u001b[0;34m)\u001b[0m \u001b[0;32melse\u001b[0m \u001b[0mmaybe_arr\u001b[0m\u001b[0;34m\u001b[0m\u001b[0;34m\u001b[0m\u001b[0m\n\u001b[1;32m   1225\u001b[0m \u001b[0;34m\u001b[0m\u001b[0m\n",
            "\u001b[0;32m/usr/local/lib/python3.7/dist-packages/tensorflow/python/framework/ops.py\u001b[0m in \u001b[0;36m_numpy\u001b[0;34m(self)\u001b[0m\n\u001b[1;32m   1187\u001b[0m   \u001b[0;32mdef\u001b[0m \u001b[0m_numpy\u001b[0m\u001b[0;34m(\u001b[0m\u001b[0mself\u001b[0m\u001b[0;34m)\u001b[0m\u001b[0;34m:\u001b[0m\u001b[0;34m\u001b[0m\u001b[0;34m\u001b[0m\u001b[0m\n\u001b[1;32m   1188\u001b[0m     \u001b[0;32mtry\u001b[0m\u001b[0;34m:\u001b[0m\u001b[0;34m\u001b[0m\u001b[0;34m\u001b[0m\u001b[0m\n\u001b[0;32m-> 1189\u001b[0;31m       \u001b[0;32mreturn\u001b[0m \u001b[0mself\u001b[0m\u001b[0;34m.\u001b[0m\u001b[0m_numpy_internal\u001b[0m\u001b[0;34m(\u001b[0m\u001b[0;34m)\u001b[0m\u001b[0;34m\u001b[0m\u001b[0;34m\u001b[0m\u001b[0m\n\u001b[0m\u001b[1;32m   1190\u001b[0m     \u001b[0;32mexcept\u001b[0m \u001b[0mcore\u001b[0m\u001b[0;34m.\u001b[0m\u001b[0m_NotOkStatusException\u001b[0m \u001b[0;32mas\u001b[0m \u001b[0me\u001b[0m\u001b[0;34m:\u001b[0m  \u001b[0;31m# pylint: disable=protected-access\u001b[0m\u001b[0;34m\u001b[0m\u001b[0;34m\u001b[0m\u001b[0m\n\u001b[1;32m   1191\u001b[0m       \u001b[0;32mraise\u001b[0m \u001b[0mcore\u001b[0m\u001b[0;34m.\u001b[0m\u001b[0m_status_to_exception\u001b[0m\u001b[0;34m(\u001b[0m\u001b[0me\u001b[0m\u001b[0;34m)\u001b[0m \u001b[0;32mfrom\u001b[0m \u001b[0;32mNone\u001b[0m  \u001b[0;31m# pylint: disable=protected-access\u001b[0m\u001b[0;34m\u001b[0m\u001b[0;34m\u001b[0m\u001b[0m\n",
            "\u001b[0;31mKeyboardInterrupt\u001b[0m: "
          ]
        }
      ],
      "source": [
        "history = model.fit(X_train, y_train, epochs=1000, validation_data=(X_test, y_test))"
      ]
    },
    {
      "cell_type": "code",
      "execution_count": null,
      "id": "adf59c61",
      "metadata": {
        "id": "adf59c61",
        "colab": {
          "base_uri": "https://localhost:8080/",
          "height": 573
        },
        "outputId": "eb30d8e0-514e-4957-b69b-d14749a59d25"
      },
      "outputs": [
        {
          "output_type": "display_data",
          "data": {
            "text/plain": [
              "<Figure size 432x288 with 1 Axes>"
            ],
            "image/png": "[encoded data removed]"
          },
          "metadata": {
            "needs_background": "light"
          }
        },
        {
          "output_type": "display_data",
          "data": {
            "text/plain": [
              "<Figure size 432x288 with 1 Axes>"
            ],
            "image/png": "[encoded data removed]"
          },
          "metadata": {
            "needs_background": "light"
          }
        }
      ],
      "source": [
        "plt.plot(history.history['accuracy'])\n",
        "plt.plot(history.history['val_accuracy'])\n",
        "plt.title('model accuracy')\n",
        "plt.ylabel('accuracy')\n",
        "plt.xlabel('epoch')\n",
        "plt.legend(['train', 'test'], loc='upper left')\n",
        "plt.show()\n",
        "# summarize history for loss\n",
        "plt.plot(history.history['loss'])\n",
        "plt.plot(history.history['val_loss'])\n",
        "plt.title('model loss')\n",
        "plt.ylabel('loss')\n",
        "plt.xlabel('epoch')\n",
        "plt.legend(['train', 'test'], loc='upper left')\n",
        "plt.show()\n"
      ]
    },
    {
      "cell_type": "code",
      "execution_count": null,
      "id": "dfb7e9e1",
      "metadata": {
        "id": "dfb7e9e1"
      },
      "outputs": [],
      "source": [
        "prediction = model.predict(X_test)"
      ]
    },
    {
      "cell_type": "code",
      "execution_count": null,
      "id": "8e435500",
      "metadata": {
        "id": "8e435500"
      },
      "outputs": [],
      "source": [
        "from sklearn.metrics import classification_report"
      ]
    },
    {
      "cell_type": "code",
      "execution_count": null,
      "id": "9dc67dee",
      "metadata": {
        "id": "9dc67dee"
      },
      "outputs": [],
      "source": [
        "#Convert both into same format\n",
        "yt = []\n",
        "pred = []\n",
        "for i in y_test:\n",
        "    yt.append(np.argmax(i))\n",
        "#     pred.append(np.argmax(j))\n",
        "\n",
        "for i in prediction:\n",
        "    pred.append(np.argmax(i))\n"
      ]
    },
    {
      "cell_type": "code",
      "execution_count": null,
      "id": "0b298756",
      "metadata": {
        "id": "0b298756"
      },
      "outputs": [],
      "source": []
    },
    {
      "cell_type": "code",
      "execution_count": null,
      "id": "c5f5e02a",
      "metadata": {
        "id": "c5f5e02a"
      },
      "outputs": [],
      "source": [
        "print(classification_report(yt, pred))"
      ]
    },
    {
      "cell_type": "code",
      "execution_count": null,
      "id": "ecdb5f2f",
      "metadata": {
        "id": "ecdb5f2f"
      },
      "outputs": [],
      "source": []
    },
    {
      "cell_type": "code",
      "execution_count": null,
      "id": "4212924a",
      "metadata": {
        "id": "4212924a"
      },
      "outputs": [],
      "source": []
    },
    {
      "cell_type": "code",
      "execution_count": null,
      "id": "40e6f8ce",
      "metadata": {
        "id": "40e6f8ce"
      },
      "outputs": [],
      "source": [
        "|"
      ]
    }
  ],
  "metadata": {
    "kernelspec": {
      "display_name": "Python 3",
      "language": "python",
      "name": "python3"
    },
    "language_info": {
      "codemirror_mode": {
        "name": "ipython",
        "version": 3
      },
      "file_extension": ".py",
      "mimetype": "text/x-python",
      "name": "python",
      "nbconvert_exporter": "python",
      "pygments_lexer": "ipython3",
      "version": "3.6.13"
    },
    "colab": {
      "provenance": []
    },
    "accelerator": "GPU",
    "gpuClass": "standard"
  },
  "nbformat": 4,
  "nbformat_minor": 5
}
